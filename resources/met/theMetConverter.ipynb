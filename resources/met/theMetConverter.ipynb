{
 "cells": [
  {
   "cell_type": "code",
   "execution_count": 1,
   "metadata": {
    "collapsed": true
   },
   "outputs": [],
   "source": [
    "import numpy as np\n",
    "import pandas as pd\n"
   ]
  },
  {
   "cell_type": "code",
   "execution_count": 3,
   "metadata": {
    "collapsed": false
   },
   "outputs": [
    {
     "name": "stderr",
     "output_type": "stream",
     "text": [
      "/Applications/anaconda/lib/python3.5/site-packages/IPython/core/interactiveshell.py:2717: DtypeWarning: Columns (7,8,9,10,11,18,27,28,29,30,31,32,33,34,35,36,37,39) have mixed types. Specify dtype option on import or set low_memory=False.\n",
      "  interactivity=interactivity, compiler=compiler, result=result)\n"
     ]
    }
   ],
   "source": [
    "df = pd.read_csv(\"../../../met_work/MetObjects.csv\")"
   ]
  },
  {
   "cell_type": "code",
   "execution_count": 4,
   "metadata": {
    "collapsed": true
   },
   "outputs": [],
   "source": [
    "#df.to_json(\"metjson.json\", orient=\"index\")"
   ]
  },
  {
   "cell_type": "code",
   "execution_count": 5,
   "metadata": {
    "collapsed": false
   },
   "outputs": [
    {
     "data": {
      "text/plain": [
       "Object Number                      <class 'str'>\n",
       "Is Highlight               <class 'numpy.bool_'>\n",
       "Is Public Domain           <class 'numpy.bool_'>\n",
       "Object ID                  <class 'numpy.int64'>\n",
       "Department                         <class 'str'>\n",
       "Object Name                        <class 'str'>\n",
       "Title                              <class 'str'>\n",
       "Culture                          <class 'float'>\n",
       "Period                           <class 'float'>\n",
       "Dynasty                          <class 'float'>\n",
       "Reign                            <class 'float'>\n",
       "Portfolio                        <class 'float'>\n",
       "Artist Role                        <class 'str'>\n",
       "Artist Prefix                    <class 'float'>\n",
       "Artist Display Name                <class 'str'>\n",
       "Artist Display Bio                 <class 'str'>\n",
       "Artist Suffix                    <class 'float'>\n",
       "Artist Alpha Sort                  <class 'str'>\n",
       "Artist Nationality                 <class 'str'>\n",
       "Artist Begin Date                  <class 'str'>\n",
       "Artist End Date                    <class 'str'>\n",
       "Object Date                        <class 'str'>\n",
       "Object Begin Date          <class 'numpy.int64'>\n",
       "Object End Date            <class 'numpy.int64'>\n",
       "Medium                             <class 'str'>\n",
       "Dimensions                         <class 'str'>\n",
       "Credit Line                        <class 'str'>\n",
       "Geography Type                   <class 'float'>\n",
       "City                             <class 'float'>\n",
       "State                            <class 'float'>\n",
       "County                           <class 'float'>\n",
       "Country                          <class 'float'>\n",
       "Region                           <class 'float'>\n",
       "Subregion                        <class 'float'>\n",
       "Locale                           <class 'float'>\n",
       "Locus                            <class 'float'>\n",
       "Excavation                       <class 'float'>\n",
       "River                            <class 'float'>\n",
       "Classification                     <class 'str'>\n",
       "Rights and Reproduction          <class 'float'>\n",
       "Link Resource                      <class 'str'>\n",
       "Metadata Date                      <class 'str'>\n",
       "Repository                         <class 'str'>\n",
       "Name: 0, dtype: object"
      ]
     },
     "execution_count": 5,
     "metadata": {},
     "output_type": "execute_result"
    }
   ],
   "source": [
    "df.ix[0].apply(type)"
   ]
  },
  {
   "cell_type": "code",
   "execution_count": 6,
   "metadata": {
    "collapsed": false
   },
   "outputs": [
    {
     "data": {
      "text/html": [
       "<div>\n",
       "<table border=\"1\" class=\"dataframe\">\n",
       "  <thead>\n",
       "    <tr style=\"text-align: right;\">\n",
       "      <th></th>\n",
       "      <th>Object Number</th>\n",
       "      <th>Is Highlight</th>\n",
       "      <th>Is Public Domain</th>\n",
       "      <th>Object ID</th>\n",
       "      <th>Department</th>\n",
       "      <th>Object Name</th>\n",
       "      <th>Title</th>\n",
       "      <th>Culture</th>\n",
       "      <th>Period</th>\n",
       "      <th>Dynasty</th>\n",
       "      <th>...</th>\n",
       "      <th>Subregion</th>\n",
       "      <th>Locale</th>\n",
       "      <th>Locus</th>\n",
       "      <th>Excavation</th>\n",
       "      <th>River</th>\n",
       "      <th>Classification</th>\n",
       "      <th>Rights and Reproduction</th>\n",
       "      <th>Link Resource</th>\n",
       "      <th>Metadata Date</th>\n",
       "      <th>Repository</th>\n",
       "    </tr>\n",
       "  </thead>\n",
       "  <tbody>\n",
       "    <tr>\n",
       "      <th>0</th>\n",
       "      <td>1979.486.1</td>\n",
       "      <td>False</td>\n",
       "      <td>False</td>\n",
       "      <td>1</td>\n",
       "      <td>American Decorative Arts</td>\n",
       "      <td>Coin</td>\n",
       "      <td>One-dollar Liberty Head Coin</td>\n",
       "      <td>NaN</td>\n",
       "      <td>NaN</td>\n",
       "      <td>NaN</td>\n",
       "      <td>...</td>\n",
       "      <td>NaN</td>\n",
       "      <td>NaN</td>\n",
       "      <td>NaN</td>\n",
       "      <td>NaN</td>\n",
       "      <td>NaN</td>\n",
       "      <td>Metal</td>\n",
       "      <td>NaN</td>\n",
       "      <td>http://www.metmuseum.org/art/collection/search/1</td>\n",
       "      <td>4/10/2017 8:00:07 AM</td>\n",
       "      <td>Metropolitan Museum of Art, New York, NY</td>\n",
       "    </tr>\n",
       "    <tr>\n",
       "      <th>1</th>\n",
       "      <td>1980.264.5</td>\n",
       "      <td>False</td>\n",
       "      <td>False</td>\n",
       "      <td>2</td>\n",
       "      <td>American Decorative Arts</td>\n",
       "      <td>Coin</td>\n",
       "      <td>Ten-dollar Liberty Head Coin</td>\n",
       "      <td>NaN</td>\n",
       "      <td>NaN</td>\n",
       "      <td>NaN</td>\n",
       "      <td>...</td>\n",
       "      <td>NaN</td>\n",
       "      <td>NaN</td>\n",
       "      <td>NaN</td>\n",
       "      <td>NaN</td>\n",
       "      <td>NaN</td>\n",
       "      <td>Metal</td>\n",
       "      <td>NaN</td>\n",
       "      <td>http://www.metmuseum.org/art/collection/search/2</td>\n",
       "      <td>4/10/2017 8:00:07 AM</td>\n",
       "      <td>Metropolitan Museum of Art, New York, NY</td>\n",
       "    </tr>\n",
       "    <tr>\n",
       "      <th>2</th>\n",
       "      <td>67.265.9</td>\n",
       "      <td>False</td>\n",
       "      <td>False</td>\n",
       "      <td>3</td>\n",
       "      <td>American Decorative Arts</td>\n",
       "      <td>Coin</td>\n",
       "      <td>Two-and-a-Half Dollar Coin</td>\n",
       "      <td>NaN</td>\n",
       "      <td>NaN</td>\n",
       "      <td>NaN</td>\n",
       "      <td>...</td>\n",
       "      <td>NaN</td>\n",
       "      <td>NaN</td>\n",
       "      <td>NaN</td>\n",
       "      <td>NaN</td>\n",
       "      <td>NaN</td>\n",
       "      <td>Metal</td>\n",
       "      <td>NaN</td>\n",
       "      <td>http://www.metmuseum.org/art/collection/search/3</td>\n",
       "      <td>4/10/2017 8:00:07 AM</td>\n",
       "      <td>Metropolitan Museum of Art, New York, NY</td>\n",
       "    </tr>\n",
       "    <tr>\n",
       "      <th>3</th>\n",
       "      <td>67.265.10</td>\n",
       "      <td>False</td>\n",
       "      <td>False</td>\n",
       "      <td>4</td>\n",
       "      <td>American Decorative Arts</td>\n",
       "      <td>Coin</td>\n",
       "      <td>Two-and-a-Half Dollar Coin</td>\n",
       "      <td>NaN</td>\n",
       "      <td>NaN</td>\n",
       "      <td>NaN</td>\n",
       "      <td>...</td>\n",
       "      <td>NaN</td>\n",
       "      <td>NaN</td>\n",
       "      <td>NaN</td>\n",
       "      <td>NaN</td>\n",
       "      <td>NaN</td>\n",
       "      <td>Metal</td>\n",
       "      <td>NaN</td>\n",
       "      <td>http://www.metmuseum.org/art/collection/search/4</td>\n",
       "      <td>4/10/2017 8:00:07 AM</td>\n",
       "      <td>Metropolitan Museum of Art, New York, NY</td>\n",
       "    </tr>\n",
       "    <tr>\n",
       "      <th>4</th>\n",
       "      <td>67.265.11</td>\n",
       "      <td>False</td>\n",
       "      <td>False</td>\n",
       "      <td>5</td>\n",
       "      <td>American Decorative Arts</td>\n",
       "      <td>Coin</td>\n",
       "      <td>Two-and-a-Half Dollar Coin</td>\n",
       "      <td>NaN</td>\n",
       "      <td>NaN</td>\n",
       "      <td>NaN</td>\n",
       "      <td>...</td>\n",
       "      <td>NaN</td>\n",
       "      <td>NaN</td>\n",
       "      <td>NaN</td>\n",
       "      <td>NaN</td>\n",
       "      <td>NaN</td>\n",
       "      <td>Metal</td>\n",
       "      <td>NaN</td>\n",
       "      <td>http://www.metmuseum.org/art/collection/search/5</td>\n",
       "      <td>4/10/2017 8:00:07 AM</td>\n",
       "      <td>Metropolitan Museum of Art, New York, NY</td>\n",
       "    </tr>\n",
       "  </tbody>\n",
       "</table>\n",
       "<p>5 rows × 43 columns</p>\n",
       "</div>"
      ],
      "text/plain": [
       "  Object Number Is Highlight Is Public Domain  Object ID  \\\n",
       "0    1979.486.1        False            False          1   \n",
       "1    1980.264.5        False            False          2   \n",
       "2      67.265.9        False            False          3   \n",
       "3     67.265.10        False            False          4   \n",
       "4     67.265.11        False            False          5   \n",
       "\n",
       "                 Department Object Name                         Title Culture  \\\n",
       "0  American Decorative Arts        Coin  One-dollar Liberty Head Coin     NaN   \n",
       "1  American Decorative Arts        Coin  Ten-dollar Liberty Head Coin     NaN   \n",
       "2  American Decorative Arts        Coin    Two-and-a-Half Dollar Coin     NaN   \n",
       "3  American Decorative Arts        Coin    Two-and-a-Half Dollar Coin     NaN   \n",
       "4  American Decorative Arts        Coin    Two-and-a-Half Dollar Coin     NaN   \n",
       "\n",
       "  Period Dynasty                    ...                    Subregion Locale  \\\n",
       "0    NaN     NaN                    ...                          NaN    NaN   \n",
       "1    NaN     NaN                    ...                          NaN    NaN   \n",
       "2    NaN     NaN                    ...                          NaN    NaN   \n",
       "3    NaN     NaN                    ...                          NaN    NaN   \n",
       "4    NaN     NaN                    ...                          NaN    NaN   \n",
       "\n",
       "  Locus Excavation River Classification Rights and Reproduction  \\\n",
       "0   NaN        NaN   NaN          Metal                     NaN   \n",
       "1   NaN        NaN   NaN          Metal                     NaN   \n",
       "2   NaN        NaN   NaN          Metal                     NaN   \n",
       "3   NaN        NaN   NaN          Metal                     NaN   \n",
       "4   NaN        NaN   NaN          Metal                     NaN   \n",
       "\n",
       "                                      Link Resource         Metadata Date  \\\n",
       "0  http://www.metmuseum.org/art/collection/search/1  4/10/2017 8:00:07 AM   \n",
       "1  http://www.metmuseum.org/art/collection/search/2  4/10/2017 8:00:07 AM   \n",
       "2  http://www.metmuseum.org/art/collection/search/3  4/10/2017 8:00:07 AM   \n",
       "3  http://www.metmuseum.org/art/collection/search/4  4/10/2017 8:00:07 AM   \n",
       "4  http://www.metmuseum.org/art/collection/search/5  4/10/2017 8:00:07 AM   \n",
       "\n",
       "                                 Repository  \n",
       "0  Metropolitan Museum of Art, New York, NY  \n",
       "1  Metropolitan Museum of Art, New York, NY  \n",
       "2  Metropolitan Museum of Art, New York, NY  \n",
       "3  Metropolitan Museum of Art, New York, NY  \n",
       "4  Metropolitan Museum of Art, New York, NY  \n",
       "\n",
       "[5 rows x 43 columns]"
      ]
     },
     "execution_count": 6,
     "metadata": {},
     "output_type": "execute_result"
    }
   ],
   "source": [
    "df.head()"
   ]
  },
  {
   "cell_type": "code",
   "execution_count": 8,
   "metadata": {
    "collapsed": false
   },
   "outputs": [
    {
     "data": {
      "text/html": [
       "<div>\n",
       "<table border=\"1\" class=\"dataframe\">\n",
       "  <thead>\n",
       "    <tr style=\"text-align: right;\">\n",
       "      <th></th>\n",
       "      <th>obj_num</th>\n",
       "    </tr>\n",
       "  </thead>\n",
       "  <tbody>\n",
       "    <tr>\n",
       "      <th>0</th>\n",
       "      <td>1996.142.2</td>\n",
       "    </tr>\n",
       "    <tr>\n",
       "      <th>1</th>\n",
       "      <td>35.93.1</td>\n",
       "    </tr>\n",
       "    <tr>\n",
       "      <th>2</th>\n",
       "      <td>35.93.2</td>\n",
       "    </tr>\n",
       "    <tr>\n",
       "      <th>3</th>\n",
       "      <td>1984.76</td>\n",
       "    </tr>\n",
       "    <tr>\n",
       "      <th>4</th>\n",
       "      <td>1998.406.2</td>\n",
       "    </tr>\n",
       "  </tbody>\n",
       "</table>\n",
       "</div>"
      ],
      "text/plain": [
       "      obj_num\n",
       "0  1996.142.2\n",
       "1     35.93.1\n",
       "2     35.93.2\n",
       "3     1984.76\n",
       "4  1998.406.2"
      ]
     },
     "execution_count": 8,
     "metadata": {},
     "output_type": "execute_result"
    }
   ],
   "source": [
    "math = pd.read_csv(\"math_obs.txt\", sep=\"\\t\")\n",
    "math.head()"
   ]
  },
  {
   "cell_type": "code",
   "execution_count": 9,
   "metadata": {
    "collapsed": true
   },
   "outputs": [],
   "source": [
    "def objMatcher(nums):\n",
    "    mathlist = []\n",
    "    for i,el in enumerate(nums):\n",
    "        for j in math.obj_num:\n",
    "            if el== j:\n",
    "                mathlist.append(df.ix[i])\n",
    "    return mathlist\n",
    "                \n",
    "                "
   ]
  },
  {
   "cell_type": "code",
   "execution_count": 10,
   "metadata": {
    "collapsed": false
   },
   "outputs": [],
   "source": [
    "mdf = pd.DataFrame(objMatcher(df['Object Number']))"
   ]
  },
  {
   "cell_type": "code",
   "execution_count": 11,
   "metadata": {
    "collapsed": true
   },
   "outputs": [],
   "source": [
    "mdf = mdf.reset_index()"
   ]
  },
  {
   "cell_type": "code",
   "execution_count": 14,
   "metadata": {
    "collapsed": false
   },
   "outputs": [],
   "source": [
    "mdf = mdf.drop(mdf.columns[[8, 9, 10, 11, 14, 28, 29, 30, 31, 32, 33, 34, 35, 36, 37, 38, 42, 43]], axis=1)\n"
   ]
  },
  {
   "cell_type": "code",
   "execution_count": 16,
   "metadata": {
    "collapsed": false
   },
   "outputs": [
    {
     "data": {
      "text/plain": [
       "Index(['index', 'Object Number', 'Is Highlight', 'Is Public Domain',\n",
       "       'Object ID', 'Department', 'Object Name', 'Title', 'Portfolio',\n",
       "       'Artist Role', 'Artist Display Name', 'Artist Display Bio',\n",
       "       'Artist Suffix', 'Artist Alpha Sort', 'Artist Nationality',\n",
       "       'Artist Begin Date', 'Artist End Date', 'Object Date',\n",
       "       'Object Begin Date', 'Object End Date', 'Medium', 'Dimensions',\n",
       "       'Credit Line', 'Classification', 'Rights and Reproduction',\n",
       "       'Link Resource'],\n",
       "      dtype='object')"
      ]
     },
     "execution_count": 16,
     "metadata": {},
     "output_type": "execute_result"
    }
   ],
   "source": [
    "mdf.columns"
   ]
  },
  {
   "cell_type": "code",
   "execution_count": 23,
   "metadata": {
    "collapsed": false
   },
   "outputs": [
    {
     "data": {
      "text/plain": [
       "0             Sheet: 11 13/16 x 9 1/2 in. (30 x 24.2cm)\n",
       "1             Sheet: 12 3/8 x 17 5/16 in. (31.5 x 44cm)\n",
       "2                   12 1/16 x 8 7/8 in. (30.6 x 22.6cm)\n",
       "3            Sheet: 17 5/16 x 8 7/8 in. (43.9 x 22.5cm)\n",
       "4     sheet: 20 11/16 x 21 in. (52.5 x 53.3cm)\\r\\npl...\n",
       "5                    9 5/8 x 15 3/4 in.  (24.4 x 40 cm)\n",
       "6                 14 7/8 x 19 1/2 in.  (37.8 x 49.6 cm)\n",
       "7                  8 1/2 x 6 9/16 in.  (21.6 x 16.7 cm)\n",
       "8                  15-3/4 x 9-7/8 in.  (40.0 x 25.1 cm)\n",
       "9     Overall: 10 1/16 x 14 1/2in. (25.6 x 36.8cm)\\r...\n",
       "10    Overall: 13 3/4 x 10 1/16 x 3/8in. (35 x 25.5 ...\n",
       "11                      10 x 6 7/8 in. (25.4 x 17.5 cm)\n",
       "12                   14 5/8 x 10 1/4 in. (37.2 x 26 cm)\n",
       "13                     25 x 20 inches (63.5 x 50.8 cm.)\n",
       "14    Overall: 11 x 8 5/16 x 15/16 in. (28 x 21.1 x ...\n",
       "15                                                  NaN\n",
       "16    Overall: 11 3/4 x 8 1/4 x 1/2 in. (29.9 x 21 x...\n",
       "17    Overall: 8 7/8 x 6 1/8 x 2 3/4 in. (22.5 x 15....\n",
       "18    Overall: 6 15/16 x 5 3/8 x 3/8 in. (17.7 x 13....\n",
       "19                                                  NaN\n",
       "20    9 1/8 × 5 11/16 × 1 3/8 in. (23.2 × 14.5 × 3.5...\n",
       "21                                                  NaN\n",
       "22    sheet: 9 9/16 x 7 7/16 in. (24.3 x 18.9 cm) tr...\n",
       "23             sheet: 14 5/16 x 11 in. (36.4 x 27.9 cm)\n",
       "24    Overall: 16 5/8 x 11 5/8 x 1 15/16 in. (42.2 x...\n",
       "25          sheet: 14 15/16 x 19 3/8 in. (38 x 49.2 cm)\n",
       "26         sheet: 5 15/16 x 8 7/16 in. (15.1 x 21.5 cm)\n",
       "27            Sheet: 7 1/8 × 9 1/2 in. (18.1 × 24.1 cm)\n",
       "28            Sheet: 7 1/8 × 9 1/2 in. (18.1 × 24.1 cm)\n",
       "29             sheet: 4 1/4 x 3 3/4 in. (10.8 x 9.5 cm)\n",
       "30                sheet: 2 9/16 x 4 in. (6.5 x 10.2 cm)\n",
       "31    Block: 12 13/16 × 16 1/8 in. (32.5 × 41 cm)\\r\\...\n",
       "32               sheet: 16 1/2 x 8 in. (41.9 x 20.3 cm)\n",
       "33    Sheet: 9 5/8 x 12 5/16 in. (24.4 x 31.2 cm)\\r\\...\n",
       "34                   46 7/8 x 72 in. (119.1 x 182.9 cm)\n",
       "35    Each: H. 20, W. 15 inches\\r\\n(50.8 x 38.1 cm.)...\n",
       "36           Sheet: 8 3/16 × 9 13/16 in. (20.8 × 25 cm)\n",
       "37               sheet: 10 5/8 x 7 7/8 in. (27 x 20 cm)\n",
       "38    Sheet: 21 1/4 × 15 1/2 in. (54 × 39.4 cm)\\r\\nP...\n",
       "39    Sheet: 21 1/16 × 15 1/2 in. (53.5 × 39.3 cm)\\r...\n",
       "40    Each Plate: 22 × 30 in. (55.9 × 76.2 cm)\\r\\nEa...\n",
       "41          Sheet: 39 3/4 × 30 1/16 in. (101 × 76.4 cm)\n",
       "42    Sheet: 30 × 22 in. (76.2 × 55.9 cm)\\r\\nImage: ...\n",
       "43    Plate: 6 7/8 × 4 5/16 in. (17.5 × 10.9 cm)\\r\\n...\n",
       "44          Sheet: 9 13/16 × 7 5/8 in. (24.9 × 19.4 cm)\n",
       "45                    Sheet: 24 × 18 in. (61 × 45.7 cm)\n",
       "46    Sheet: 9 1/4 × 10 15/16 in. (23.5 × 27.8 cm)\\r...\n",
       "47    Sheet (Trimmed): 5 13/16 × 4 5/16 in. (14.7 × ...\n",
       "48    Sheet (Trimmed): 5 13/16 × 4 3/16 in. (14.7 × ...\n",
       "49    Sheet (Trimmed): 7 3/16 × 3 15/16 in. (18.2 × ...\n",
       "50    Sheet (Trimmed): 3 1/16 × 4 3/8 in. (7.8 × 11....\n",
       "Name: Dimensions, dtype: object"
      ]
     },
     "execution_count": 23,
     "metadata": {},
     "output_type": "execute_result"
    }
   ],
   "source": [
    "mdf['Dimensions']"
   ]
  },
  {
   "cell_type": "code",
   "execution_count": null,
   "metadata": {
    "collapsed": true
   },
   "outputs": [],
   "source": []
  },
  {
   "cell_type": "code",
   "execution_count": 24,
   "metadata": {
    "collapsed": false
   },
   "outputs": [],
   "source": [
    "mdf.head(10)\n",
    "mdf.to_json(\"mathjson.json\", orient=\"index\")\n",
    "mdf.to_csv(\"mathtsv.tsv\", sep=\"\\t\")\n"
   ]
  },
  {
   "cell_type": "code",
   "execution_count": 25,
   "metadata": {
    "collapsed": false
   },
   "outputs": [
    {
     "data": {
      "text/plain": [
       "51"
      ]
     },
     "execution_count": 25,
     "metadata": {},
     "output_type": "execute_result"
    }
   ],
   "source": [
    "len(mdf)\n"
   ]
  },
  {
   "cell_type": "code",
   "execution_count": 26,
   "metadata": {
    "collapsed": false
   },
   "outputs": [],
   "source": [
    "#city = mdf.groupby('Artist Display Bio').count()"
   ]
  },
  {
   "cell_type": "code",
   "execution_count": null,
   "metadata": {
    "collapsed": false
   },
   "outputs": [],
   "source": []
  }
 ],
 "metadata": {
  "anaconda-cloud": {},
  "kernelspec": {
   "display_name": "Python [conda root]",
   "language": "python",
   "name": "conda-root-py"
  },
  "language_info": {
   "codemirror_mode": {
    "name": "ipython",
    "version": 3
   },
   "file_extension": ".py",
   "mimetype": "text/x-python",
   "name": "python",
   "nbconvert_exporter": "python",
   "pygments_lexer": "ipython3",
   "version": "3.5.2"
  }
 },
 "nbformat": 4,
 "nbformat_minor": 1
}
