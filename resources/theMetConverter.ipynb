{
 "cells": [
  {
   "cell_type": "code",
   "execution_count": 1,
   "metadata": {
    "collapsed": true
   },
   "outputs": [],
   "source": [
    "import numpy as np\n",
    "import pandas as pd\n"
   ]
  },
  {
   "cell_type": "code",
   "execution_count": 2,
   "metadata": {
    "collapsed": false
   },
   "outputs": [
    {
     "name": "stderr",
     "output_type": "stream",
     "text": [
      "/Applications/anaconda/lib/python3.5/site-packages/IPython/core/interactiveshell.py:2717: DtypeWarning: Columns (7,8,9,10,11,18,27,28,29,30,31,32,33,34,35,36,37,39) have mixed types. Specify dtype option on import or set low_memory=False.\n",
      "  interactivity=interactivity, compiler=compiler, result=result)\n"
     ]
    }
   ],
   "source": [
    "df = pd.read_csv(\"MetObjects.csv\")"
   ]
  },
  {
   "cell_type": "code",
   "execution_count": 3,
   "metadata": {
    "collapsed": true
   },
   "outputs": [],
   "source": [
    "#df.to_json(\"metjson.json\", orient=\"index\")"
   ]
  },
  {
   "cell_type": "code",
   "execution_count": 4,
   "metadata": {
    "collapsed": false
   },
   "outputs": [
    {
     "data": {
      "text/plain": [
       "Object Number                      <class 'str'>\n",
       "Is Highlight               <class 'numpy.bool_'>\n",
       "Is Public Domain           <class 'numpy.bool_'>\n",
       "Object ID                  <class 'numpy.int64'>\n",
       "Department                         <class 'str'>\n",
       "Object Name                        <class 'str'>\n",
       "Title                              <class 'str'>\n",
       "Culture                          <class 'float'>\n",
       "Period                           <class 'float'>\n",
       "Dynasty                          <class 'float'>\n",
       "Reign                            <class 'float'>\n",
       "Portfolio                        <class 'float'>\n",
       "Artist Role                        <class 'str'>\n",
       "Artist Prefix                    <class 'float'>\n",
       "Artist Display Name                <class 'str'>\n",
       "Artist Display Bio                 <class 'str'>\n",
       "Artist Suffix                    <class 'float'>\n",
       "Artist Alpha Sort                  <class 'str'>\n",
       "Artist Nationality                 <class 'str'>\n",
       "Artist Begin Date                  <class 'str'>\n",
       "Artist End Date                    <class 'str'>\n",
       "Object Date                        <class 'str'>\n",
       "Object Begin Date          <class 'numpy.int64'>\n",
       "Object End Date            <class 'numpy.int64'>\n",
       "Medium                             <class 'str'>\n",
       "Dimensions                         <class 'str'>\n",
       "Credit Line                        <class 'str'>\n",
       "Geography Type                   <class 'float'>\n",
       "City                             <class 'float'>\n",
       "State                            <class 'float'>\n",
       "County                           <class 'float'>\n",
       "Country                          <class 'float'>\n",
       "Region                           <class 'float'>\n",
       "Subregion                        <class 'float'>\n",
       "Locale                           <class 'float'>\n",
       "Locus                            <class 'float'>\n",
       "Excavation                       <class 'float'>\n",
       "River                            <class 'float'>\n",
       "Classification                     <class 'str'>\n",
       "Rights and Reproduction          <class 'float'>\n",
       "Link Resource                      <class 'str'>\n",
       "Metadata Date                      <class 'str'>\n",
       "Repository                         <class 'str'>\n",
       "Name: 0, dtype: object"
      ]
     },
     "execution_count": 4,
     "metadata": {},
     "output_type": "execute_result"
    }
   ],
   "source": [
    "df.ix[0].apply(type)"
   ]
  },
  {
   "cell_type": "code",
   "execution_count": 5,
   "metadata": {
    "collapsed": false
   },
   "outputs": [
    {
     "data": {
      "text/html": [
       "<div>\n",
       "<table border=\"1\" class=\"dataframe\">\n",
       "  <thead>\n",
       "    <tr style=\"text-align: right;\">\n",
       "      <th></th>\n",
       "      <th>Object Number</th>\n",
       "      <th>Is Highlight</th>\n",
       "      <th>Is Public Domain</th>\n",
       "      <th>Object ID</th>\n",
       "      <th>Department</th>\n",
       "      <th>Object Name</th>\n",
       "      <th>Title</th>\n",
       "      <th>Culture</th>\n",
       "      <th>Period</th>\n",
       "      <th>Dynasty</th>\n",
       "      <th>...</th>\n",
       "      <th>Subregion</th>\n",
       "      <th>Locale</th>\n",
       "      <th>Locus</th>\n",
       "      <th>Excavation</th>\n",
       "      <th>River</th>\n",
       "      <th>Classification</th>\n",
       "      <th>Rights and Reproduction</th>\n",
       "      <th>Link Resource</th>\n",
       "      <th>Metadata Date</th>\n",
       "      <th>Repository</th>\n",
       "    </tr>\n",
       "  </thead>\n",
       "  <tbody>\n",
       "    <tr>\n",
       "      <th>0</th>\n",
       "      <td>1979.486.1</td>\n",
       "      <td>False</td>\n",
       "      <td>False</td>\n",
       "      <td>1</td>\n",
       "      <td>American Decorative Arts</td>\n",
       "      <td>Coin</td>\n",
       "      <td>One-dollar Liberty Head Coin</td>\n",
       "      <td>NaN</td>\n",
       "      <td>NaN</td>\n",
       "      <td>NaN</td>\n",
       "      <td>...</td>\n",
       "      <td>NaN</td>\n",
       "      <td>NaN</td>\n",
       "      <td>NaN</td>\n",
       "      <td>NaN</td>\n",
       "      <td>NaN</td>\n",
       "      <td>Metal</td>\n",
       "      <td>NaN</td>\n",
       "      <td>http://www.metmuseum.org/art/collection/search/1</td>\n",
       "      <td>4/10/2017 8:00:07 AM</td>\n",
       "      <td>Metropolitan Museum of Art, New York, NY</td>\n",
       "    </tr>\n",
       "    <tr>\n",
       "      <th>1</th>\n",
       "      <td>1980.264.5</td>\n",
       "      <td>False</td>\n",
       "      <td>False</td>\n",
       "      <td>2</td>\n",
       "      <td>American Decorative Arts</td>\n",
       "      <td>Coin</td>\n",
       "      <td>Ten-dollar Liberty Head Coin</td>\n",
       "      <td>NaN</td>\n",
       "      <td>NaN</td>\n",
       "      <td>NaN</td>\n",
       "      <td>...</td>\n",
       "      <td>NaN</td>\n",
       "      <td>NaN</td>\n",
       "      <td>NaN</td>\n",
       "      <td>NaN</td>\n",
       "      <td>NaN</td>\n",
       "      <td>Metal</td>\n",
       "      <td>NaN</td>\n",
       "      <td>http://www.metmuseum.org/art/collection/search/2</td>\n",
       "      <td>4/10/2017 8:00:07 AM</td>\n",
       "      <td>Metropolitan Museum of Art, New York, NY</td>\n",
       "    </tr>\n",
       "    <tr>\n",
       "      <th>2</th>\n",
       "      <td>67.265.9</td>\n",
       "      <td>False</td>\n",
       "      <td>False</td>\n",
       "      <td>3</td>\n",
       "      <td>American Decorative Arts</td>\n",
       "      <td>Coin</td>\n",
       "      <td>Two-and-a-Half Dollar Coin</td>\n",
       "      <td>NaN</td>\n",
       "      <td>NaN</td>\n",
       "      <td>NaN</td>\n",
       "      <td>...</td>\n",
       "      <td>NaN</td>\n",
       "      <td>NaN</td>\n",
       "      <td>NaN</td>\n",
       "      <td>NaN</td>\n",
       "      <td>NaN</td>\n",
       "      <td>Metal</td>\n",
       "      <td>NaN</td>\n",
       "      <td>http://www.metmuseum.org/art/collection/search/3</td>\n",
       "      <td>4/10/2017 8:00:07 AM</td>\n",
       "      <td>Metropolitan Museum of Art, New York, NY</td>\n",
       "    </tr>\n",
       "    <tr>\n",
       "      <th>3</th>\n",
       "      <td>67.265.10</td>\n",
       "      <td>False</td>\n",
       "      <td>False</td>\n",
       "      <td>4</td>\n",
       "      <td>American Decorative Arts</td>\n",
       "      <td>Coin</td>\n",
       "      <td>Two-and-a-Half Dollar Coin</td>\n",
       "      <td>NaN</td>\n",
       "      <td>NaN</td>\n",
       "      <td>NaN</td>\n",
       "      <td>...</td>\n",
       "      <td>NaN</td>\n",
       "      <td>NaN</td>\n",
       "      <td>NaN</td>\n",
       "      <td>NaN</td>\n",
       "      <td>NaN</td>\n",
       "      <td>Metal</td>\n",
       "      <td>NaN</td>\n",
       "      <td>http://www.metmuseum.org/art/collection/search/4</td>\n",
       "      <td>4/10/2017 8:00:07 AM</td>\n",
       "      <td>Metropolitan Museum of Art, New York, NY</td>\n",
       "    </tr>\n",
       "    <tr>\n",
       "      <th>4</th>\n",
       "      <td>67.265.11</td>\n",
       "      <td>False</td>\n",
       "      <td>False</td>\n",
       "      <td>5</td>\n",
       "      <td>American Decorative Arts</td>\n",
       "      <td>Coin</td>\n",
       "      <td>Two-and-a-Half Dollar Coin</td>\n",
       "      <td>NaN</td>\n",
       "      <td>NaN</td>\n",
       "      <td>NaN</td>\n",
       "      <td>...</td>\n",
       "      <td>NaN</td>\n",
       "      <td>NaN</td>\n",
       "      <td>NaN</td>\n",
       "      <td>NaN</td>\n",
       "      <td>NaN</td>\n",
       "      <td>Metal</td>\n",
       "      <td>NaN</td>\n",
       "      <td>http://www.metmuseum.org/art/collection/search/5</td>\n",
       "      <td>4/10/2017 8:00:07 AM</td>\n",
       "      <td>Metropolitan Museum of Art, New York, NY</td>\n",
       "    </tr>\n",
       "  </tbody>\n",
       "</table>\n",
       "<p>5 rows × 43 columns</p>\n",
       "</div>"
      ],
      "text/plain": [
       "  Object Number Is Highlight Is Public Domain  Object ID  \\\n",
       "0    1979.486.1        False            False          1   \n",
       "1    1980.264.5        False            False          2   \n",
       "2      67.265.9        False            False          3   \n",
       "3     67.265.10        False            False          4   \n",
       "4     67.265.11        False            False          5   \n",
       "\n",
       "                 Department Object Name                         Title Culture  \\\n",
       "0  American Decorative Arts        Coin  One-dollar Liberty Head Coin     NaN   \n",
       "1  American Decorative Arts        Coin  Ten-dollar Liberty Head Coin     NaN   \n",
       "2  American Decorative Arts        Coin    Two-and-a-Half Dollar Coin     NaN   \n",
       "3  American Decorative Arts        Coin    Two-and-a-Half Dollar Coin     NaN   \n",
       "4  American Decorative Arts        Coin    Two-and-a-Half Dollar Coin     NaN   \n",
       "\n",
       "  Period Dynasty                    ...                    Subregion Locale  \\\n",
       "0    NaN     NaN                    ...                          NaN    NaN   \n",
       "1    NaN     NaN                    ...                          NaN    NaN   \n",
       "2    NaN     NaN                    ...                          NaN    NaN   \n",
       "3    NaN     NaN                    ...                          NaN    NaN   \n",
       "4    NaN     NaN                    ...                          NaN    NaN   \n",
       "\n",
       "  Locus Excavation River Classification Rights and Reproduction  \\\n",
       "0   NaN        NaN   NaN          Metal                     NaN   \n",
       "1   NaN        NaN   NaN          Metal                     NaN   \n",
       "2   NaN        NaN   NaN          Metal                     NaN   \n",
       "3   NaN        NaN   NaN          Metal                     NaN   \n",
       "4   NaN        NaN   NaN          Metal                     NaN   \n",
       "\n",
       "                                      Link Resource         Metadata Date  \\\n",
       "0  http://www.metmuseum.org/art/collection/search/1  4/10/2017 8:00:07 AM   \n",
       "1  http://www.metmuseum.org/art/collection/search/2  4/10/2017 8:00:07 AM   \n",
       "2  http://www.metmuseum.org/art/collection/search/3  4/10/2017 8:00:07 AM   \n",
       "3  http://www.metmuseum.org/art/collection/search/4  4/10/2017 8:00:07 AM   \n",
       "4  http://www.metmuseum.org/art/collection/search/5  4/10/2017 8:00:07 AM   \n",
       "\n",
       "                                 Repository  \n",
       "0  Metropolitan Museum of Art, New York, NY  \n",
       "1  Metropolitan Museum of Art, New York, NY  \n",
       "2  Metropolitan Museum of Art, New York, NY  \n",
       "3  Metropolitan Museum of Art, New York, NY  \n",
       "4  Metropolitan Museum of Art, New York, NY  \n",
       "\n",
       "[5 rows x 43 columns]"
      ]
     },
     "execution_count": 5,
     "metadata": {},
     "output_type": "execute_result"
    }
   ],
   "source": [
    "df.head()"
   ]
  },
  {
   "cell_type": "code",
   "execution_count": 6,
   "metadata": {
    "collapsed": false
   },
   "outputs": [
    {
     "data": {
      "text/html": [
       "<div>\n",
       "<table border=\"1\" class=\"dataframe\">\n",
       "  <thead>\n",
       "    <tr style=\"text-align: right;\">\n",
       "      <th></th>\n",
       "      <th>obj_num</th>\n",
       "    </tr>\n",
       "  </thead>\n",
       "  <tbody>\n",
       "    <tr>\n",
       "      <th>0</th>\n",
       "      <td>1996.142.2</td>\n",
       "    </tr>\n",
       "    <tr>\n",
       "      <th>1</th>\n",
       "      <td>35.93.1</td>\n",
       "    </tr>\n",
       "    <tr>\n",
       "      <th>2</th>\n",
       "      <td>35.93.2</td>\n",
       "    </tr>\n",
       "    <tr>\n",
       "      <th>3</th>\n",
       "      <td>1984.76</td>\n",
       "    </tr>\n",
       "    <tr>\n",
       "      <th>4</th>\n",
       "      <td>1998.406.2</td>\n",
       "    </tr>\n",
       "  </tbody>\n",
       "</table>\n",
       "</div>"
      ],
      "text/plain": [
       "      obj_num\n",
       "0  1996.142.2\n",
       "1     35.93.1\n",
       "2     35.93.2\n",
       "3     1984.76\n",
       "4  1998.406.2"
      ]
     },
     "execution_count": 6,
     "metadata": {},
     "output_type": "execute_result"
    }
   ],
   "source": [
    "math = pd.read_csv(\"math_obs.txt\", sep=\"\\t\")\n",
    "math.head()"
   ]
  },
  {
   "cell_type": "code",
   "execution_count": 7,
   "metadata": {
    "collapsed": true
   },
   "outputs": [],
   "source": [
    "def objMatcher(nums):\n",
    "    mathlist = []\n",
    "    for i,el in enumerate(nums):\n",
    "        for j in math.obj_num:\n",
    "            if el== j:\n",
    "                mathlist.append(df.ix[i])\n",
    "    return mathlist\n",
    "                \n",
    "                "
   ]
  },
  {
   "cell_type": "code",
   "execution_count": 8,
   "metadata": {
    "collapsed": false
   },
   "outputs": [],
   "source": [
    "mdf = pd.DataFrame(objMatcher(df['Object Number']))"
   ]
  },
  {
   "cell_type": "code",
   "execution_count": 9,
   "metadata": {
    "collapsed": true
   },
   "outputs": [],
   "source": [
    "mdf = mdf.reset_index()"
   ]
  },
  {
   "cell_type": "code",
   "execution_count": null,
   "metadata": {
    "collapsed": true
   },
   "outputs": [],
   "source": []
  },
  {
   "cell_type": "code",
   "execution_count": 10,
   "metadata": {
    "collapsed": false
   },
   "outputs": [],
   "source": [
    "mdf = mdf.drop(mdf.columns[[8, 9, 10, 11, 14, 28, 29, 30, 31, 32, 33, 34, 35, 36, 37, 38, 42, 43]], axis=1)\n"
   ]
  },
  {
   "cell_type": "code",
   "execution_count": 11,
   "metadata": {
    "collapsed": false
   },
   "outputs": [],
   "source": [
    "#mdf = pd.read_csv(\"mathtsv.tsv\", sep=\"\\t\")"
   ]
  },
  {
   "cell_type": "code",
   "execution_count": 12,
   "metadata": {
    "collapsed": false
   },
   "outputs": [
    {
     "data": {
      "text/plain": [
       "Index(['index', 'Object Number', 'Is Highlight', 'Is Public Domain',\n",
       "       'Object ID', 'Department', 'Object Name', 'Title', 'Portfolio',\n",
       "       'Artist Role', 'Artist Display Name', 'Artist Display Bio',\n",
       "       'Artist Suffix', 'Artist Alpha Sort', 'Artist Nationality',\n",
       "       'Artist Begin Date', 'Artist End Date', 'Object Date',\n",
       "       'Object Begin Date', 'Object End Date', 'Medium', 'Dimensions',\n",
       "       'Credit Line', 'Classification', 'Rights and Reproduction',\n",
       "       'Link Resource'],\n",
       "      dtype='object')"
      ]
     },
     "execution_count": 12,
     "metadata": {},
     "output_type": "execute_result"
    }
   ],
   "source": [
    "mdf.columns"
   ]
  },
  {
   "cell_type": "code",
   "execution_count": 13,
   "metadata": {
    "collapsed": false
   },
   "outputs": [
    {
     "data": {
      "text/plain": [
       "0            Sheet: 11 13/16 x 9 1/2 in. (30 x 24.2cm)\n",
       "1            Sheet: 12 3/8 x 17 5/16 in. (31.5 x 44cm)\n",
       "2                  12 1/16 x 8 7/8 in. (30.6 x 22.6cm)\n",
       "3           Sheet: 17 5/16 x 8 7/8 in. (43.9 x 22.5cm)\n",
       "4    sheet: 20 11/16 x 21 in. (52.5 x 53.3cm)\\r\\npl...\n",
       "Name: Dimensions, dtype: object"
      ]
     },
     "execution_count": 13,
     "metadata": {},
     "output_type": "execute_result"
    }
   ],
   "source": [
    "mdf['Dimensions'].head()"
   ]
  },
  {
   "cell_type": "code",
   "execution_count": 14,
   "metadata": {
    "collapsed": false
   },
   "outputs": [],
   "source": [
    "mdf['cm_Dimensions'] = mdf.Dimensions.str.findall(\"\\((\\d+\\.?\\d?).*(\\d+\\.?\\d?).*\\)\")"
   ]
  },
  {
   "cell_type": "code",
   "execution_count": 15,
   "metadata": {
    "collapsed": true
   },
   "outputs": [],
   "source": [
    "mdf['Donation_Date'] = mdf['Credit Line'].str.findall(\"\\d{4}\")"
   ]
  },
  {
   "cell_type": "code",
   "execution_count": 16,
   "metadata": {
    "collapsed": false
   },
   "outputs": [
    {
     "data": {
      "text/html": [
       "<div>\n",
       "<table border=\"1\" class=\"dataframe\">\n",
       "  <thead>\n",
       "    <tr style=\"text-align: right;\">\n",
       "      <th></th>\n",
       "      <th>index</th>\n",
       "      <th>Object Number</th>\n",
       "      <th>Is Highlight</th>\n",
       "      <th>Is Public Domain</th>\n",
       "      <th>Object ID</th>\n",
       "      <th>Department</th>\n",
       "      <th>Object Name</th>\n",
       "      <th>Title</th>\n",
       "      <th>Portfolio</th>\n",
       "      <th>Artist Role</th>\n",
       "      <th>...</th>\n",
       "      <th>Object Begin Date</th>\n",
       "      <th>Object End Date</th>\n",
       "      <th>Medium</th>\n",
       "      <th>Dimensions</th>\n",
       "      <th>Credit Line</th>\n",
       "      <th>Classification</th>\n",
       "      <th>Rights and Reproduction</th>\n",
       "      <th>Link Resource</th>\n",
       "      <th>cm_Dimensions</th>\n",
       "      <th>Donation_Date</th>\n",
       "    </tr>\n",
       "  </thead>\n",
       "  <tbody>\n",
       "    <tr>\n",
       "      <th>0</th>\n",
       "      <td>208883</td>\n",
       "      <td>1984.66</td>\n",
       "      <td>False</td>\n",
       "      <td>True</td>\n",
       "      <td>334372</td>\n",
       "      <td>Drawings and Prints</td>\n",
       "      <td>Drawing</td>\n",
       "      <td>Allegorical Figure of the City of Piacenza, fo...</td>\n",
       "      <td>NaN</td>\n",
       "      <td>Artist</td>\n",
       "      <td>...</td>\n",
       "      <td>1821</td>\n",
       "      <td>1821</td>\n",
       "      <td>Graphite, heightened with white, squared in gr...</td>\n",
       "      <td>Sheet: 11 13/16 x 9 1/2 in. (30 x 24.2cm)</td>\n",
       "      <td>Purchase, The David L. Klein, Jr. Memorial Fou...</td>\n",
       "      <td>Drawings</td>\n",
       "      <td>NaN</td>\n",
       "      <td>http://www.metmuseum.org/art/collection/search...</td>\n",
       "      <td>[(30, 2)]</td>\n",
       "      <td>[1984]</td>\n",
       "    </tr>\n",
       "    <tr>\n",
       "      <th>1</th>\n",
       "      <td>208884</td>\n",
       "      <td>1984.76</td>\n",
       "      <td>False</td>\n",
       "      <td>True</td>\n",
       "      <td>334373</td>\n",
       "      <td>Drawings and Prints</td>\n",
       "      <td>Drawing</td>\n",
       "      <td>Study for \"Mme Théodore Gobillard\" (née Yves M...</td>\n",
       "      <td>NaN</td>\n",
       "      <td>Artist</td>\n",
       "      <td>...</td>\n",
       "      <td>1869</td>\n",
       "      <td>1869</td>\n",
       "      <td>Graphite, squared, on buff tracing paper, moun...</td>\n",
       "      <td>Sheet: 12 3/8 x 17 5/16 in. (31.5 x 44cm)</td>\n",
       "      <td>Purchase, Harris Brisbane Dick Fund, David T. ...</td>\n",
       "      <td>Drawings</td>\n",
       "      <td>NaN</td>\n",
       "      <td>http://www.metmuseum.org/art/collection/search...</td>\n",
       "      <td>[(31.5, 4)]</td>\n",
       "      <td>[1984]</td>\n",
       "    </tr>\n",
       "    <tr>\n",
       "      <th>2</th>\n",
       "      <td>208998</td>\n",
       "      <td>1991.1</td>\n",
       "      <td>False</td>\n",
       "      <td>True</td>\n",
       "      <td>334488</td>\n",
       "      <td>Drawings and Prints</td>\n",
       "      <td>Drawing</td>\n",
       "      <td>Group of Apostles</td>\n",
       "      <td>NaN</td>\n",
       "      <td>Draftsman</td>\n",
       "      <td>...</td>\n",
       "      <td>1854</td>\n",
       "      <td>1861</td>\n",
       "      <td>Graphite, squared, on light gray paper</td>\n",
       "      <td>12 1/16 x 8 7/8 in. (30.6 x 22.6cm)</td>\n",
       "      <td>Purchase, Stephen A. Geiger Gift, 1991</td>\n",
       "      <td>Drawings</td>\n",
       "      <td>NaN</td>\n",
       "      <td>http://www.metmuseum.org/art/collection/search...</td>\n",
       "      <td>[(30.6, 6)]</td>\n",
       "      <td>[1991]</td>\n",
       "    </tr>\n",
       "    <tr>\n",
       "      <th>3</th>\n",
       "      <td>208999</td>\n",
       "      <td>1991.111</td>\n",
       "      <td>False</td>\n",
       "      <td>True</td>\n",
       "      <td>334489</td>\n",
       "      <td>Drawings and Prints</td>\n",
       "      <td>Drawing</td>\n",
       "      <td>Standing Soldier: Study for the Chapel of Sain...</td>\n",
       "      <td>NaN</td>\n",
       "      <td>Artist</td>\n",
       "      <td>...</td>\n",
       "      <td>1851</td>\n",
       "      <td>1852</td>\n",
       "      <td>Conté crayon and red chalk, heightened with wh...</td>\n",
       "      <td>Sheet: 17 5/16 x 8 7/8 in. (43.9 x 22.5cm)</td>\n",
       "      <td>Purchase, Mrs. Carl L. Selden Gift, in memory ...</td>\n",
       "      <td>Drawings</td>\n",
       "      <td>NaN</td>\n",
       "      <td>http://www.metmuseum.org/art/collection/search...</td>\n",
       "      <td>[(43.9, 5)]</td>\n",
       "      <td>[]</td>\n",
       "    </tr>\n",
       "    <tr>\n",
       "      <th>4</th>\n",
       "      <td>209060</td>\n",
       "      <td>1992.1043.4</td>\n",
       "      <td>False</td>\n",
       "      <td>False</td>\n",
       "      <td>334551</td>\n",
       "      <td>Drawings and Prints</td>\n",
       "      <td>Print</td>\n",
       "      <td>Untitled</td>\n",
       "      <td>From the series \"Forms Derived from a Cube\" (s...</td>\n",
       "      <td>Artist|Printer|Publisher</td>\n",
       "      <td>...</td>\n",
       "      <td>1982</td>\n",
       "      <td>1982</td>\n",
       "      <td>Aquatint and etching</td>\n",
       "      <td>sheet: 20 11/16 x 21 in. (52.5 x 53.3cm)\\r\\npl...</td>\n",
       "      <td>Gift of Norman B. Colp and Marsha Stern-Colp, ...</td>\n",
       "      <td>Prints</td>\n",
       "      <td>© 2017 Artists Rights Society (ARS), New York</td>\n",
       "      <td>http://www.metmuseum.org/art/collection/search...</td>\n",
       "      <td>[(52.5, 3), (45, 5)]</td>\n",
       "      <td>[1992]</td>\n",
       "    </tr>\n",
       "  </tbody>\n",
       "</table>\n",
       "<p>5 rows × 28 columns</p>\n",
       "</div>"
      ],
      "text/plain": [
       "    index Object Number Is Highlight Is Public Domain  Object ID  \\\n",
       "0  208883       1984.66        False             True     334372   \n",
       "1  208884       1984.76        False             True     334373   \n",
       "2  208998        1991.1        False             True     334488   \n",
       "3  208999      1991.111        False             True     334489   \n",
       "4  209060   1992.1043.4        False            False     334551   \n",
       "\n",
       "            Department Object Name  \\\n",
       "0  Drawings and Prints     Drawing   \n",
       "1  Drawings and Prints     Drawing   \n",
       "2  Drawings and Prints     Drawing   \n",
       "3  Drawings and Prints     Drawing   \n",
       "4  Drawings and Prints       Print   \n",
       "\n",
       "                                               Title  \\\n",
       "0  Allegorical Figure of the City of Piacenza, fo...   \n",
       "1  Study for \"Mme Théodore Gobillard\" (née Yves M...   \n",
       "2                                  Group of Apostles   \n",
       "3  Standing Soldier: Study for the Chapel of Sain...   \n",
       "4                                           Untitled   \n",
       "\n",
       "                                           Portfolio  \\\n",
       "0                                                NaN   \n",
       "1                                                NaN   \n",
       "2                                                NaN   \n",
       "3                                                NaN   \n",
       "4  From the series \"Forms Derived from a Cube\" (s...   \n",
       "\n",
       "                Artist Role      ...       Object Begin Date Object End Date  \\\n",
       "0                    Artist      ...                    1821            1821   \n",
       "1                    Artist      ...                    1869            1869   \n",
       "2                 Draftsman      ...                    1854            1861   \n",
       "3                    Artist      ...                    1851            1852   \n",
       "4  Artist|Printer|Publisher      ...                    1982            1982   \n",
       "\n",
       "                                              Medium  \\\n",
       "0  Graphite, heightened with white, squared in gr...   \n",
       "1  Graphite, squared, on buff tracing paper, moun...   \n",
       "2             Graphite, squared, on light gray paper   \n",
       "3  Conté crayon and red chalk, heightened with wh...   \n",
       "4                               Aquatint and etching   \n",
       "\n",
       "                                          Dimensions  \\\n",
       "0          Sheet: 11 13/16 x 9 1/2 in. (30 x 24.2cm)   \n",
       "1          Sheet: 12 3/8 x 17 5/16 in. (31.5 x 44cm)   \n",
       "2                12 1/16 x 8 7/8 in. (30.6 x 22.6cm)   \n",
       "3         Sheet: 17 5/16 x 8 7/8 in. (43.9 x 22.5cm)   \n",
       "4  sheet: 20 11/16 x 21 in. (52.5 x 53.3cm)\\r\\npl...   \n",
       "\n",
       "                                         Credit Line Classification  \\\n",
       "0  Purchase, The David L. Klein, Jr. Memorial Fou...       Drawings   \n",
       "1  Purchase, Harris Brisbane Dick Fund, David T. ...       Drawings   \n",
       "2             Purchase, Stephen A. Geiger Gift, 1991       Drawings   \n",
       "3  Purchase, Mrs. Carl L. Selden Gift, in memory ...       Drawings   \n",
       "4  Gift of Norman B. Colp and Marsha Stern-Colp, ...         Prints   \n",
       "\n",
       "                         Rights and Reproduction  \\\n",
       "0                                            NaN   \n",
       "1                                            NaN   \n",
       "2                                            NaN   \n",
       "3                                            NaN   \n",
       "4  © 2017 Artists Rights Society (ARS), New York   \n",
       "\n",
       "                                       Link Resource         cm_Dimensions  \\\n",
       "0  http://www.metmuseum.org/art/collection/search...             [(30, 2)]   \n",
       "1  http://www.metmuseum.org/art/collection/search...           [(31.5, 4)]   \n",
       "2  http://www.metmuseum.org/art/collection/search...           [(30.6, 6)]   \n",
       "3  http://www.metmuseum.org/art/collection/search...           [(43.9, 5)]   \n",
       "4  http://www.metmuseum.org/art/collection/search...  [(52.5, 3), (45, 5)]   \n",
       "\n",
       "   Donation_Date  \n",
       "0         [1984]  \n",
       "1         [1984]  \n",
       "2         [1991]  \n",
       "3             []  \n",
       "4         [1992]  \n",
       "\n",
       "[5 rows x 28 columns]"
      ]
     },
     "execution_count": 16,
     "metadata": {},
     "output_type": "execute_result"
    }
   ],
   "source": [
    "mdf.head()"
   ]
  },
  {
   "cell_type": "code",
   "execution_count": 18,
   "metadata": {
    "collapsed": false
   },
   "outputs": [
    {
     "data": {
      "text/plain": [
       "Index(['index', 'Object Number', 'Is Highlight', 'Is Public Domain',\n",
       "       'Object ID', 'Department', 'Object Name', 'Title', 'Portfolio',\n",
       "       'Artist Role', 'Artist Display Name', 'Artist Display Bio',\n",
       "       'Artist Suffix', 'Artist Alpha Sort', 'Artist Nationality',\n",
       "       'Artist Begin Date', 'Artist End Date', 'Object Date',\n",
       "       'Object Begin Date', 'Object End Date', 'Medium', 'Dimensions',\n",
       "       'Credit Line', 'Classification', 'Rights and Reproduction',\n",
       "       'Link Resource', 'cm_Dimensions', 'Donation_Date'],\n",
       "      dtype='object')"
      ]
     },
     "execution_count": 18,
     "metadata": {},
     "output_type": "execute_result"
    }
   ],
   "source": [
    "mdf.columns\n"
   ]
  },
  {
   "cell_type": "code",
   "execution_count": 19,
   "metadata": {
    "collapsed": true
   },
   "outputs": [],
   "source": [
    "mdFilter = mdf[['Title','Artist Display Name','Artist Nationality','Object Begin Date','Object End Date','cm_Dimensions','Donation_Date','Link Resource']].copy()"
   ]
  },
  {
   "cell_type": "code",
   "execution_count": 20,
   "metadata": {
    "collapsed": false
   },
   "outputs": [
    {
     "data": {
      "text/html": [
       "<div>\n",
       "<table border=\"1\" class=\"dataframe\">\n",
       "  <thead>\n",
       "    <tr style=\"text-align: right;\">\n",
       "      <th></th>\n",
       "      <th>Title</th>\n",
       "      <th>Artist Display Name</th>\n",
       "      <th>Artist Nationality</th>\n",
       "      <th>Object Begin Date</th>\n",
       "      <th>Object End Date</th>\n",
       "      <th>cm_Dimensions</th>\n",
       "      <th>Donation_Date</th>\n",
       "      <th>Link Resource</th>\n",
       "    </tr>\n",
       "  </thead>\n",
       "  <tbody>\n",
       "    <tr>\n",
       "      <th>0</th>\n",
       "      <td>Allegorical Figure of the City of Piacenza, fo...</td>\n",
       "      <td>Alexandre Denis Abel de Pujol</td>\n",
       "      <td>French</td>\n",
       "      <td>1821</td>\n",
       "      <td>1821</td>\n",
       "      <td>[(30, 2)]</td>\n",
       "      <td>[1984]</td>\n",
       "      <td>http://www.metmuseum.org/art/collection/search...</td>\n",
       "    </tr>\n",
       "    <tr>\n",
       "      <th>1</th>\n",
       "      <td>Study for \"Mme Théodore Gobillard\" (née Yves M...</td>\n",
       "      <td>Edgar Degas</td>\n",
       "      <td>French</td>\n",
       "      <td>1869</td>\n",
       "      <td>1869</td>\n",
       "      <td>[(31.5, 4)]</td>\n",
       "      <td>[1984]</td>\n",
       "      <td>http://www.metmuseum.org/art/collection/search...</td>\n",
       "    </tr>\n",
       "    <tr>\n",
       "      <th>2</th>\n",
       "      <td>Group of Apostles</td>\n",
       "      <td>Hippolyte Flandrin</td>\n",
       "      <td>French</td>\n",
       "      <td>1854</td>\n",
       "      <td>1861</td>\n",
       "      <td>[(30.6, 6)]</td>\n",
       "      <td>[1991]</td>\n",
       "      <td>http://www.metmuseum.org/art/collection/search...</td>\n",
       "    </tr>\n",
       "    <tr>\n",
       "      <th>3</th>\n",
       "      <td>Standing Soldier: Study for the Chapel of Sain...</td>\n",
       "      <td>Victor-François-Eloi Biennourry</td>\n",
       "      <td>French</td>\n",
       "      <td>1851</td>\n",
       "      <td>1852</td>\n",
       "      <td>[(43.9, 5)]</td>\n",
       "      <td>[]</td>\n",
       "      <td>http://www.metmuseum.org/art/collection/search...</td>\n",
       "    </tr>\n",
       "    <tr>\n",
       "      <th>4</th>\n",
       "      <td>Untitled</td>\n",
       "      <td>Sol LeWitt|Jeryl Parker|Multiples/Goodman Gallery</td>\n",
       "      <td>American|American</td>\n",
       "      <td>1982</td>\n",
       "      <td>1982</td>\n",
       "      <td>[(52.5, 3), (45, 5)]</td>\n",
       "      <td>[1992]</td>\n",
       "      <td>http://www.metmuseum.org/art/collection/search...</td>\n",
       "    </tr>\n",
       "  </tbody>\n",
       "</table>\n",
       "</div>"
      ],
      "text/plain": [
       "                                               Title  \\\n",
       "0  Allegorical Figure of the City of Piacenza, fo...   \n",
       "1  Study for \"Mme Théodore Gobillard\" (née Yves M...   \n",
       "2                                  Group of Apostles   \n",
       "3  Standing Soldier: Study for the Chapel of Sain...   \n",
       "4                                           Untitled   \n",
       "\n",
       "                                 Artist Display Name Artist Nationality  \\\n",
       "0                      Alexandre Denis Abel de Pujol             French   \n",
       "1                                        Edgar Degas             French   \n",
       "2                                 Hippolyte Flandrin             French   \n",
       "3                    Victor-François-Eloi Biennourry             French   \n",
       "4  Sol LeWitt|Jeryl Parker|Multiples/Goodman Gallery  American|American   \n",
       "\n",
       "   Object Begin Date  Object End Date         cm_Dimensions Donation_Date  \\\n",
       "0               1821             1821             [(30, 2)]        [1984]   \n",
       "1               1869             1869           [(31.5, 4)]        [1984]   \n",
       "2               1854             1861           [(30.6, 6)]        [1991]   \n",
       "3               1851             1852           [(43.9, 5)]            []   \n",
       "4               1982             1982  [(52.5, 3), (45, 5)]        [1992]   \n",
       "\n",
       "                                       Link Resource  \n",
       "0  http://www.metmuseum.org/art/collection/search...  \n",
       "1  http://www.metmuseum.org/art/collection/search...  \n",
       "2  http://www.metmuseum.org/art/collection/search...  \n",
       "3  http://www.metmuseum.org/art/collection/search...  \n",
       "4  http://www.metmuseum.org/art/collection/search...  "
      ]
     },
     "execution_count": 20,
     "metadata": {},
     "output_type": "execute_result"
    }
   ],
   "source": [
    "mdFilter.head()"
   ]
  },
  {
   "cell_type": "code",
   "execution_count": 30,
   "metadata": {
    "collapsed": false
   },
   "outputs": [],
   "source": [
    "mdFilter['url_num'] = mdFilter['Link Resource'].str.findall(\"\\d+$\")\n",
    "del mdFilter['Link Resource']"
   ]
  },
  {
   "cell_type": "code",
   "execution_count": 31,
   "metadata": {
    "collapsed": false
   },
   "outputs": [
    {
     "data": {
      "text/html": [
       "<div>\n",
       "<table border=\"1\" class=\"dataframe\">\n",
       "  <thead>\n",
       "    <tr style=\"text-align: right;\">\n",
       "      <th></th>\n",
       "      <th>Title</th>\n",
       "      <th>Artist Display Name</th>\n",
       "      <th>Artist Nationality</th>\n",
       "      <th>Object Begin Date</th>\n",
       "      <th>Object End Date</th>\n",
       "      <th>cm_Dimensions</th>\n",
       "      <th>Donation_Date</th>\n",
       "      <th>url_num</th>\n",
       "    </tr>\n",
       "  </thead>\n",
       "  <tbody>\n",
       "    <tr>\n",
       "      <th>0</th>\n",
       "      <td>Allegorical Figure of the City of Piacenza, fo...</td>\n",
       "      <td>Alexandre Denis Abel de Pujol</td>\n",
       "      <td>French</td>\n",
       "      <td>1821</td>\n",
       "      <td>1821</td>\n",
       "      <td>[(30, 2)]</td>\n",
       "      <td>[1984]</td>\n",
       "      <td>[334372]</td>\n",
       "    </tr>\n",
       "    <tr>\n",
       "      <th>1</th>\n",
       "      <td>Study for \"Mme Théodore Gobillard\" (née Yves M...</td>\n",
       "      <td>Edgar Degas</td>\n",
       "      <td>French</td>\n",
       "      <td>1869</td>\n",
       "      <td>1869</td>\n",
       "      <td>[(31.5, 4)]</td>\n",
       "      <td>[1984]</td>\n",
       "      <td>[334373]</td>\n",
       "    </tr>\n",
       "    <tr>\n",
       "      <th>2</th>\n",
       "      <td>Group of Apostles</td>\n",
       "      <td>Hippolyte Flandrin</td>\n",
       "      <td>French</td>\n",
       "      <td>1854</td>\n",
       "      <td>1861</td>\n",
       "      <td>[(30.6, 6)]</td>\n",
       "      <td>[1991]</td>\n",
       "      <td>[334488]</td>\n",
       "    </tr>\n",
       "    <tr>\n",
       "      <th>3</th>\n",
       "      <td>Standing Soldier: Study for the Chapel of Sain...</td>\n",
       "      <td>Victor-François-Eloi Biennourry</td>\n",
       "      <td>French</td>\n",
       "      <td>1851</td>\n",
       "      <td>1852</td>\n",
       "      <td>[(43.9, 5)]</td>\n",
       "      <td>[]</td>\n",
       "      <td>[334489]</td>\n",
       "    </tr>\n",
       "    <tr>\n",
       "      <th>4</th>\n",
       "      <td>Untitled</td>\n",
       "      <td>Sol LeWitt|Jeryl Parker|Multiples/Goodman Gallery</td>\n",
       "      <td>American|American</td>\n",
       "      <td>1982</td>\n",
       "      <td>1982</td>\n",
       "      <td>[(52.5, 3), (45, 5)]</td>\n",
       "      <td>[1992]</td>\n",
       "      <td>[334551]</td>\n",
       "    </tr>\n",
       "  </tbody>\n",
       "</table>\n",
       "</div>"
      ],
      "text/plain": [
       "                                               Title  \\\n",
       "0  Allegorical Figure of the City of Piacenza, fo...   \n",
       "1  Study for \"Mme Théodore Gobillard\" (née Yves M...   \n",
       "2                                  Group of Apostles   \n",
       "3  Standing Soldier: Study for the Chapel of Sain...   \n",
       "4                                           Untitled   \n",
       "\n",
       "                                 Artist Display Name Artist Nationality  \\\n",
       "0                      Alexandre Denis Abel de Pujol             French   \n",
       "1                                        Edgar Degas             French   \n",
       "2                                 Hippolyte Flandrin             French   \n",
       "3                    Victor-François-Eloi Biennourry             French   \n",
       "4  Sol LeWitt|Jeryl Parker|Multiples/Goodman Gallery  American|American   \n",
       "\n",
       "   Object Begin Date  Object End Date         cm_Dimensions Donation_Date  \\\n",
       "0               1821             1821             [(30, 2)]        [1984]   \n",
       "1               1869             1869           [(31.5, 4)]        [1984]   \n",
       "2               1854             1861           [(30.6, 6)]        [1991]   \n",
       "3               1851             1852           [(43.9, 5)]            []   \n",
       "4               1982             1982  [(52.5, 3), (45, 5)]        [1992]   \n",
       "\n",
       "    url_num  \n",
       "0  [334372]  \n",
       "1  [334373]  \n",
       "2  [334488]  \n",
       "3  [334489]  \n",
       "4  [334551]  "
      ]
     },
     "execution_count": 31,
     "metadata": {},
     "output_type": "execute_result"
    }
   ],
   "source": [
    "mdFilter.head()"
   ]
  },
  {
   "cell_type": "code",
   "execution_count": null,
   "metadata": {
    "collapsed": true
   },
   "outputs": [],
   "source": []
  },
  {
   "cell_type": "code",
   "execution_count": null,
   "metadata": {
    "collapsed": true
   },
   "outputs": [],
   "source": []
  },
  {
   "cell_type": "code",
   "execution_count": null,
   "metadata": {
    "collapsed": true
   },
   "outputs": [],
   "source": []
  },
  {
   "cell_type": "code",
   "execution_count": 46,
   "metadata": {
    "collapsed": false
   },
   "outputs": [
    {
     "ename": "TypeError",
     "evalue": "float() argument must be a string or a number, not 'tuple'",
     "output_type": "error",
     "traceback": [
      "\u001b[0;31m---------------------------------------------------------------------------\u001b[0m",
      "\u001b[0;31mTypeError\u001b[0m                                 Traceback (most recent call last)",
      "\u001b[0;32m<ipython-input-46-399b5ffec0bd>\u001b[0m in \u001b[0;36m<module>\u001b[0;34m()\u001b[0m\n\u001b[0;32m----> 1\u001b[0;31m \u001b[0mmdf\u001b[0m\u001b[0;34m[\u001b[0m\u001b[0;34m'floatcm'\u001b[0m\u001b[0;34m]\u001b[0m \u001b[0;34m=\u001b[0m \u001b[0mmdf\u001b[0m\u001b[0;34m.\u001b[0m\u001b[0mcm_Dimensions\u001b[0m\u001b[0;34m.\u001b[0m\u001b[0mapply\u001b[0m\u001b[0;34m(\u001b[0m\u001b[0;32mlambda\u001b[0m \u001b[0mx\u001b[0m\u001b[0;34m:\u001b[0m \u001b[0;34m[\u001b[0m\u001b[0mfloat\u001b[0m\u001b[0;34m(\u001b[0m\u001b[0mi\u001b[0m\u001b[0;34m)\u001b[0m \u001b[0;32mfor\u001b[0m \u001b[0mi\u001b[0m \u001b[0;32min\u001b[0m \u001b[0mx\u001b[0m\u001b[0;34m]\u001b[0m\u001b[0;34m)\u001b[0m\u001b[0;34m\u001b[0m\u001b[0m\n\u001b[0m",
      "\u001b[0;32m/Applications/anaconda/lib/python3.5/site-packages/pandas/core/series.py\u001b[0m in \u001b[0;36mapply\u001b[0;34m(self, func, convert_dtype, args, **kwds)\u001b[0m\n\u001b[1;32m   2290\u001b[0m             \u001b[0;32melse\u001b[0m\u001b[0;34m:\u001b[0m\u001b[0;34m\u001b[0m\u001b[0m\n\u001b[1;32m   2291\u001b[0m                 \u001b[0mvalues\u001b[0m \u001b[0;34m=\u001b[0m \u001b[0mself\u001b[0m\u001b[0;34m.\u001b[0m\u001b[0masobject\u001b[0m\u001b[0;34m\u001b[0m\u001b[0m\n\u001b[0;32m-> 2292\u001b[0;31m                 \u001b[0mmapped\u001b[0m \u001b[0;34m=\u001b[0m \u001b[0mlib\u001b[0m\u001b[0;34m.\u001b[0m\u001b[0mmap_infer\u001b[0m\u001b[0;34m(\u001b[0m\u001b[0mvalues\u001b[0m\u001b[0;34m,\u001b[0m \u001b[0mf\u001b[0m\u001b[0;34m,\u001b[0m \u001b[0mconvert\u001b[0m\u001b[0;34m=\u001b[0m\u001b[0mconvert_dtype\u001b[0m\u001b[0;34m)\u001b[0m\u001b[0;34m\u001b[0m\u001b[0m\n\u001b[0m\u001b[1;32m   2293\u001b[0m \u001b[0;34m\u001b[0m\u001b[0m\n\u001b[1;32m   2294\u001b[0m         \u001b[0;32mif\u001b[0m \u001b[0mlen\u001b[0m\u001b[0;34m(\u001b[0m\u001b[0mmapped\u001b[0m\u001b[0;34m)\u001b[0m \u001b[0;32mand\u001b[0m \u001b[0misinstance\u001b[0m\u001b[0;34m(\u001b[0m\u001b[0mmapped\u001b[0m\u001b[0;34m[\u001b[0m\u001b[0;36m0\u001b[0m\u001b[0;34m]\u001b[0m\u001b[0;34m,\u001b[0m \u001b[0mSeries\u001b[0m\u001b[0;34m)\u001b[0m\u001b[0;34m:\u001b[0m\u001b[0;34m\u001b[0m\u001b[0m\n",
      "\u001b[0;32mpandas/src/inference.pyx\u001b[0m in \u001b[0;36mpandas.lib.map_infer (pandas/lib.c:63307)\u001b[0;34m()\u001b[0m\n",
      "\u001b[0;32m<ipython-input-46-399b5ffec0bd>\u001b[0m in \u001b[0;36m<lambda>\u001b[0;34m(x)\u001b[0m\n\u001b[0;32m----> 1\u001b[0;31m \u001b[0mmdf\u001b[0m\u001b[0;34m[\u001b[0m\u001b[0;34m'floatcm'\u001b[0m\u001b[0;34m]\u001b[0m \u001b[0;34m=\u001b[0m \u001b[0mmdf\u001b[0m\u001b[0;34m.\u001b[0m\u001b[0mcm_Dimensions\u001b[0m\u001b[0;34m.\u001b[0m\u001b[0mapply\u001b[0m\u001b[0;34m(\u001b[0m\u001b[0;32mlambda\u001b[0m \u001b[0mx\u001b[0m\u001b[0;34m:\u001b[0m \u001b[0;34m[\u001b[0m\u001b[0mfloat\u001b[0m\u001b[0;34m(\u001b[0m\u001b[0mi\u001b[0m\u001b[0;34m)\u001b[0m \u001b[0;32mfor\u001b[0m \u001b[0mi\u001b[0m \u001b[0;32min\u001b[0m \u001b[0mx\u001b[0m\u001b[0;34m]\u001b[0m\u001b[0;34m)\u001b[0m\u001b[0;34m\u001b[0m\u001b[0m\n\u001b[0m",
      "\u001b[0;32m<ipython-input-46-399b5ffec0bd>\u001b[0m in \u001b[0;36m<listcomp>\u001b[0;34m(.0)\u001b[0m\n\u001b[0;32m----> 1\u001b[0;31m \u001b[0mmdf\u001b[0m\u001b[0;34m[\u001b[0m\u001b[0;34m'floatcm'\u001b[0m\u001b[0;34m]\u001b[0m \u001b[0;34m=\u001b[0m \u001b[0mmdf\u001b[0m\u001b[0;34m.\u001b[0m\u001b[0mcm_Dimensions\u001b[0m\u001b[0;34m.\u001b[0m\u001b[0mapply\u001b[0m\u001b[0;34m(\u001b[0m\u001b[0;32mlambda\u001b[0m \u001b[0mx\u001b[0m\u001b[0;34m:\u001b[0m \u001b[0;34m[\u001b[0m\u001b[0mfloat\u001b[0m\u001b[0;34m(\u001b[0m\u001b[0mi\u001b[0m\u001b[0;34m)\u001b[0m \u001b[0;32mfor\u001b[0m \u001b[0mi\u001b[0m \u001b[0;32min\u001b[0m \u001b[0mx\u001b[0m\u001b[0;34m]\u001b[0m\u001b[0;34m)\u001b[0m\u001b[0;34m\u001b[0m\u001b[0m\n\u001b[0m",
      "\u001b[0;31mTypeError\u001b[0m: float() argument must be a string or a number, not 'tuple'"
     ]
    }
   ],
   "source": [
    "#mdf['floatcm'] = mdf.cm_Dimensions.apply(lambda x: [float(i) for i in x])"
   ]
  },
  {
   "cell_type": "code",
   "execution_count": 32,
   "metadata": {
    "collapsed": false
   },
   "outputs": [],
   "source": [
    "mdFilter.to_json(\"mathjson.json\", orient=\"index\")\n",
    "#mdf.to_json(\"mathjson.json\", orient=\"index\")\n",
    "mdFilter.to_csv(\"mathtsv.tsv\", sep=\"\\t\")\n",
    "#mdf.to_csv(\"mathtsv.tsv\", sep=\"\\t\")\n"
   ]
  },
  {
   "cell_type": "code",
   "execution_count": 25,
   "metadata": {
    "collapsed": false
   },
   "outputs": [
    {
     "data": {
      "text/plain": [
       "51"
      ]
     },
     "execution_count": 25,
     "metadata": {},
     "output_type": "execute_result"
    }
   ],
   "source": [
    "len(mdf)\n"
   ]
  },
  {
   "cell_type": "code",
   "execution_count": 26,
   "metadata": {
    "collapsed": false
   },
   "outputs": [],
   "source": [
    "#city = mdf.groupby('Artist Display Bio').count()"
   ]
  },
  {
   "cell_type": "code",
   "execution_count": null,
   "metadata": {
    "collapsed": false
   },
   "outputs": [],
   "source": []
  }
 ],
 "metadata": {
  "anaconda-cloud": {},
  "kernelspec": {
   "display_name": "Python [conda root]",
   "language": "python",
   "name": "conda-root-py"
  },
  "language_info": {
   "codemirror_mode": {
    "name": "ipython",
    "version": 3
   },
   "file_extension": ".py",
   "mimetype": "text/x-python",
   "name": "python",
   "nbconvert_exporter": "python",
   "pygments_lexer": "ipython3",
   "version": "3.5.2"
  }
 },
 "nbformat": 4,
 "nbformat_minor": 1
}
