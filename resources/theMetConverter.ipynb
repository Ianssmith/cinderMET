{
 "cells": [
  {
   "cell_type": "code",
   "execution_count": 1,
   "metadata": {
    "collapsed": true
   },
   "outputs": [],
   "source": [
    "import numpy as np\n",
    "import pandas as pd\n"
   ]
  },
  {
   "cell_type": "code",
   "execution_count": 3,
   "metadata": {
    "collapsed": false
   },
   "outputs": [],
   "source": [
    "#df = pd.read_csv(\"../../../met_work/MetObjects.csv\")"
   ]
  },
  {
   "cell_type": "code",
   "execution_count": 4,
   "metadata": {
    "collapsed": true
   },
   "outputs": [],
   "source": [
    "#df.to_json(\"metjson.json\", orient=\"index\")"
   ]
  },
  {
   "cell_type": "code",
   "execution_count": 5,
   "metadata": {
    "collapsed": false
   },
   "outputs": [
    {
     "data": {
      "text/plain": [
       "Object Number                      <class 'str'>\n",
       "Is Highlight               <class 'numpy.bool_'>\n",
       "Is Public Domain           <class 'numpy.bool_'>\n",
       "Object ID                  <class 'numpy.int64'>\n",
       "Department                         <class 'str'>\n",
       "Object Name                        <class 'str'>\n",
       "Title                              <class 'str'>\n",
       "Culture                          <class 'float'>\n",
       "Period                           <class 'float'>\n",
       "Dynasty                          <class 'float'>\n",
       "Reign                            <class 'float'>\n",
       "Portfolio                        <class 'float'>\n",
       "Artist Role                        <class 'str'>\n",
       "Artist Prefix                    <class 'float'>\n",
       "Artist Display Name                <class 'str'>\n",
       "Artist Display Bio                 <class 'str'>\n",
       "Artist Suffix                    <class 'float'>\n",
       "Artist Alpha Sort                  <class 'str'>\n",
       "Artist Nationality                 <class 'str'>\n",
       "Artist Begin Date                  <class 'str'>\n",
       "Artist End Date                    <class 'str'>\n",
       "Object Date                        <class 'str'>\n",
       "Object Begin Date          <class 'numpy.int64'>\n",
       "Object End Date            <class 'numpy.int64'>\n",
       "Medium                             <class 'str'>\n",
       "Dimensions                         <class 'str'>\n",
       "Credit Line                        <class 'str'>\n",
       "Geography Type                   <class 'float'>\n",
       "City                             <class 'float'>\n",
       "State                            <class 'float'>\n",
       "County                           <class 'float'>\n",
       "Country                          <class 'float'>\n",
       "Region                           <class 'float'>\n",
       "Subregion                        <class 'float'>\n",
       "Locale                           <class 'float'>\n",
       "Locus                            <class 'float'>\n",
       "Excavation                       <class 'float'>\n",
       "River                            <class 'float'>\n",
       "Classification                     <class 'str'>\n",
       "Rights and Reproduction          <class 'float'>\n",
       "Link Resource                      <class 'str'>\n",
       "Metadata Date                      <class 'str'>\n",
       "Repository                         <class 'str'>\n",
       "Name: 0, dtype: object"
      ]
     },
     "execution_count": 5,
     "metadata": {},
     "output_type": "execute_result"
    }
   ],
   "source": [
    "df.ix[0].apply(type)"
   ]
  },
  {
   "cell_type": "code",
   "execution_count": 6,
   "metadata": {
    "collapsed": false
   },
   "outputs": [
    {
     "data": {
      "text/html": [
       "<div>\n",
       "<table border=\"1\" class=\"dataframe\">\n",
       "  <thead>\n",
       "    <tr style=\"text-align: right;\">\n",
       "      <th></th>\n",
       "      <th>Object Number</th>\n",
       "      <th>Is Highlight</th>\n",
       "      <th>Is Public Domain</th>\n",
       "      <th>Object ID</th>\n",
       "      <th>Department</th>\n",
       "      <th>Object Name</th>\n",
       "      <th>Title</th>\n",
       "      <th>Culture</th>\n",
       "      <th>Period</th>\n",
       "      <th>Dynasty</th>\n",
       "      <th>...</th>\n",
       "      <th>Subregion</th>\n",
       "      <th>Locale</th>\n",
       "      <th>Locus</th>\n",
       "      <th>Excavation</th>\n",
       "      <th>River</th>\n",
       "      <th>Classification</th>\n",
       "      <th>Rights and Reproduction</th>\n",
       "      <th>Link Resource</th>\n",
       "      <th>Metadata Date</th>\n",
       "      <th>Repository</th>\n",
       "    </tr>\n",
       "  </thead>\n",
       "  <tbody>\n",
       "    <tr>\n",
       "      <th>0</th>\n",
       "      <td>1979.486.1</td>\n",
       "      <td>False</td>\n",
       "      <td>False</td>\n",
       "      <td>1</td>\n",
       "      <td>American Decorative Arts</td>\n",
       "      <td>Coin</td>\n",
       "      <td>One-dollar Liberty Head Coin</td>\n",
       "      <td>NaN</td>\n",
       "      <td>NaN</td>\n",
       "      <td>NaN</td>\n",
       "      <td>...</td>\n",
       "      <td>NaN</td>\n",
       "      <td>NaN</td>\n",
       "      <td>NaN</td>\n",
       "      <td>NaN</td>\n",
       "      <td>NaN</td>\n",
       "      <td>Metal</td>\n",
       "      <td>NaN</td>\n",
       "      <td>http://www.metmuseum.org/art/collection/search/1</td>\n",
       "      <td>4/10/2017 8:00:07 AM</td>\n",
       "      <td>Metropolitan Museum of Art, New York, NY</td>\n",
       "    </tr>\n",
       "    <tr>\n",
       "      <th>1</th>\n",
       "      <td>1980.264.5</td>\n",
       "      <td>False</td>\n",
       "      <td>False</td>\n",
       "      <td>2</td>\n",
       "      <td>American Decorative Arts</td>\n",
       "      <td>Coin</td>\n",
       "      <td>Ten-dollar Liberty Head Coin</td>\n",
       "      <td>NaN</td>\n",
       "      <td>NaN</td>\n",
       "      <td>NaN</td>\n",
       "      <td>...</td>\n",
       "      <td>NaN</td>\n",
       "      <td>NaN</td>\n",
       "      <td>NaN</td>\n",
       "      <td>NaN</td>\n",
       "      <td>NaN</td>\n",
       "      <td>Metal</td>\n",
       "      <td>NaN</td>\n",
       "      <td>http://www.metmuseum.org/art/collection/search/2</td>\n",
       "      <td>4/10/2017 8:00:07 AM</td>\n",
       "      <td>Metropolitan Museum of Art, New York, NY</td>\n",
       "    </tr>\n",
       "    <tr>\n",
       "      <th>2</th>\n",
       "      <td>67.265.9</td>\n",
       "      <td>False</td>\n",
       "      <td>False</td>\n",
       "      <td>3</td>\n",
       "      <td>American Decorative Arts</td>\n",
       "      <td>Coin</td>\n",
       "      <td>Two-and-a-Half Dollar Coin</td>\n",
       "      <td>NaN</td>\n",
       "      <td>NaN</td>\n",
       "      <td>NaN</td>\n",
       "      <td>...</td>\n",
       "      <td>NaN</td>\n",
       "      <td>NaN</td>\n",
       "      <td>NaN</td>\n",
       "      <td>NaN</td>\n",
       "      <td>NaN</td>\n",
       "      <td>Metal</td>\n",
       "      <td>NaN</td>\n",
       "      <td>http://www.metmuseum.org/art/collection/search/3</td>\n",
       "      <td>4/10/2017 8:00:07 AM</td>\n",
       "      <td>Metropolitan Museum of Art, New York, NY</td>\n",
       "    </tr>\n",
       "    <tr>\n",
       "      <th>3</th>\n",
       "      <td>67.265.10</td>\n",
       "      <td>False</td>\n",
       "      <td>False</td>\n",
       "      <td>4</td>\n",
       "      <td>American Decorative Arts</td>\n",
       "      <td>Coin</td>\n",
       "      <td>Two-and-a-Half Dollar Coin</td>\n",
       "      <td>NaN</td>\n",
       "      <td>NaN</td>\n",
       "      <td>NaN</td>\n",
       "      <td>...</td>\n",
       "      <td>NaN</td>\n",
       "      <td>NaN</td>\n",
       "      <td>NaN</td>\n",
       "      <td>NaN</td>\n",
       "      <td>NaN</td>\n",
       "      <td>Metal</td>\n",
       "      <td>NaN</td>\n",
       "      <td>http://www.metmuseum.org/art/collection/search/4</td>\n",
       "      <td>4/10/2017 8:00:07 AM</td>\n",
       "      <td>Metropolitan Museum of Art, New York, NY</td>\n",
       "    </tr>\n",
       "    <tr>\n",
       "      <th>4</th>\n",
       "      <td>67.265.11</td>\n",
       "      <td>False</td>\n",
       "      <td>False</td>\n",
       "      <td>5</td>\n",
       "      <td>American Decorative Arts</td>\n",
       "      <td>Coin</td>\n",
       "      <td>Two-and-a-Half Dollar Coin</td>\n",
       "      <td>NaN</td>\n",
       "      <td>NaN</td>\n",
       "      <td>NaN</td>\n",
       "      <td>...</td>\n",
       "      <td>NaN</td>\n",
       "      <td>NaN</td>\n",
       "      <td>NaN</td>\n",
       "      <td>NaN</td>\n",
       "      <td>NaN</td>\n",
       "      <td>Metal</td>\n",
       "      <td>NaN</td>\n",
       "      <td>http://www.metmuseum.org/art/collection/search/5</td>\n",
       "      <td>4/10/2017 8:00:07 AM</td>\n",
       "      <td>Metropolitan Museum of Art, New York, NY</td>\n",
       "    </tr>\n",
       "  </tbody>\n",
       "</table>\n",
       "<p>5 rows × 43 columns</p>\n",
       "</div>"
      ],
      "text/plain": [
       "  Object Number Is Highlight Is Public Domain  Object ID  \\\n",
       "0    1979.486.1        False            False          1   \n",
       "1    1980.264.5        False            False          2   \n",
       "2      67.265.9        False            False          3   \n",
       "3     67.265.10        False            False          4   \n",
       "4     67.265.11        False            False          5   \n",
       "\n",
       "                 Department Object Name                         Title Culture  \\\n",
       "0  American Decorative Arts        Coin  One-dollar Liberty Head Coin     NaN   \n",
       "1  American Decorative Arts        Coin  Ten-dollar Liberty Head Coin     NaN   \n",
       "2  American Decorative Arts        Coin    Two-and-a-Half Dollar Coin     NaN   \n",
       "3  American Decorative Arts        Coin    Two-and-a-Half Dollar Coin     NaN   \n",
       "4  American Decorative Arts        Coin    Two-and-a-Half Dollar Coin     NaN   \n",
       "\n",
       "  Period Dynasty                    ...                    Subregion Locale  \\\n",
       "0    NaN     NaN                    ...                          NaN    NaN   \n",
       "1    NaN     NaN                    ...                          NaN    NaN   \n",
       "2    NaN     NaN                    ...                          NaN    NaN   \n",
       "3    NaN     NaN                    ...                          NaN    NaN   \n",
       "4    NaN     NaN                    ...                          NaN    NaN   \n",
       "\n",
       "  Locus Excavation River Classification Rights and Reproduction  \\\n",
       "0   NaN        NaN   NaN          Metal                     NaN   \n",
       "1   NaN        NaN   NaN          Metal                     NaN   \n",
       "2   NaN        NaN   NaN          Metal                     NaN   \n",
       "3   NaN        NaN   NaN          Metal                     NaN   \n",
       "4   NaN        NaN   NaN          Metal                     NaN   \n",
       "\n",
       "                                      Link Resource         Metadata Date  \\\n",
       "0  http://www.metmuseum.org/art/collection/search/1  4/10/2017 8:00:07 AM   \n",
       "1  http://www.metmuseum.org/art/collection/search/2  4/10/2017 8:00:07 AM   \n",
       "2  http://www.metmuseum.org/art/collection/search/3  4/10/2017 8:00:07 AM   \n",
       "3  http://www.metmuseum.org/art/collection/search/4  4/10/2017 8:00:07 AM   \n",
       "4  http://www.metmuseum.org/art/collection/search/5  4/10/2017 8:00:07 AM   \n",
       "\n",
       "                                 Repository  \n",
       "0  Metropolitan Museum of Art, New York, NY  \n",
       "1  Metropolitan Museum of Art, New York, NY  \n",
       "2  Metropolitan Museum of Art, New York, NY  \n",
       "3  Metropolitan Museum of Art, New York, NY  \n",
       "4  Metropolitan Museum of Art, New York, NY  \n",
       "\n",
       "[5 rows x 43 columns]"
      ]
     },
     "execution_count": 6,
     "metadata": {},
     "output_type": "execute_result"
    }
   ],
   "source": [
    "df.head()"
   ]
  },
  {
   "cell_type": "code",
   "execution_count": 8,
   "metadata": {
    "collapsed": false
   },
   "outputs": [
    {
     "data": {
      "text/html": [
       "<div>\n",
       "<table border=\"1\" class=\"dataframe\">\n",
       "  <thead>\n",
       "    <tr style=\"text-align: right;\">\n",
       "      <th></th>\n",
       "      <th>obj_num</th>\n",
       "    </tr>\n",
       "  </thead>\n",
       "  <tbody>\n",
       "    <tr>\n",
       "      <th>0</th>\n",
       "      <td>1996.142.2</td>\n",
       "    </tr>\n",
       "    <tr>\n",
       "      <th>1</th>\n",
       "      <td>35.93.1</td>\n",
       "    </tr>\n",
       "    <tr>\n",
       "      <th>2</th>\n",
       "      <td>35.93.2</td>\n",
       "    </tr>\n",
       "    <tr>\n",
       "      <th>3</th>\n",
       "      <td>1984.76</td>\n",
       "    </tr>\n",
       "    <tr>\n",
       "      <th>4</th>\n",
       "      <td>1998.406.2</td>\n",
       "    </tr>\n",
       "  </tbody>\n",
       "</table>\n",
       "</div>"
      ],
      "text/plain": [
       "      obj_num\n",
       "0  1996.142.2\n",
       "1     35.93.1\n",
       "2     35.93.2\n",
       "3     1984.76\n",
       "4  1998.406.2"
      ]
     },
     "execution_count": 8,
     "metadata": {},
     "output_type": "execute_result"
    }
   ],
   "source": [
    "math = pd.read_csv(\"math_obs.txt\", sep=\"\\t\")\n",
    "math.head()"
   ]
  },
  {
   "cell_type": "code",
   "execution_count": 9,
   "metadata": {
    "collapsed": true
   },
   "outputs": [],
   "source": [
    "def objMatcher(nums):\n",
    "    mathlist = []\n",
    "    for i,el in enumerate(nums):\n",
    "        for j in math.obj_num:\n",
    "            if el== j:\n",
    "                mathlist.append(df.ix[i])\n",
    "    return mathlist\n",
    "                \n",
    "                "
   ]
  },
  {
   "cell_type": "code",
   "execution_count": 10,
   "metadata": {
    "collapsed": false
   },
   "outputs": [],
   "source": [
    "mdf = pd.DataFrame(objMatcher(df['Object Number']))"
   ]
  },
  {
   "cell_type": "code",
   "execution_count": 11,
   "metadata": {
    "collapsed": true
   },
   "outputs": [],
   "source": [
    "mdf = mdf.reset_index()"
   ]
  },
  {
   "cell_type": "code",
   "execution_count": 14,
   "metadata": {
    "collapsed": false
   },
   "outputs": [],
   "source": [
    "mdf = mdf.drop(mdf.columns[[8, 9, 10, 11, 14, 28, 29, 30, 31, 32, 33, 34, 35, 36, 37, 38, 42, 43]], axis=1)\n"
   ]
  },
  {
   "cell_type": "code",
   "execution_count": 4,
   "metadata": {
    "collapsed": true
   },
   "outputs": [],
   "source": [
    "mdf = pd.read_csv(\"mathtsv.tsv\", sep=\"\\t\")"
   ]
  },
  {
   "cell_type": "code",
   "execution_count": 5,
   "metadata": {
    "collapsed": false
   },
   "outputs": [
    {
     "data": {
      "text/plain": [
       "Index(['Unnamed: 0', 'index', 'Object Number', 'Is Highlight',\n",
       "       'Is Public Domain', 'Object ID', 'Department', 'Object Name', 'Title',\n",
       "       'Portfolio', 'Artist Role', 'Artist Display Name', 'Artist Display Bio',\n",
       "       'Artist Suffix', 'Artist Alpha Sort', 'Artist Nationality',\n",
       "       'Artist Begin Date', 'Artist End Date', 'Object Date',\n",
       "       'Object Begin Date', 'Object End Date', 'Medium', 'Dimensions',\n",
       "       'Credit Line', 'Classification', 'Rights and Reproduction',\n",
       "       'Link Resource'],\n",
       "      dtype='object')"
      ]
     },
     "execution_count": 5,
     "metadata": {},
     "output_type": "execute_result"
    }
   ],
   "source": [
    "mdf.columns"
   ]
  },
  {
   "cell_type": "code",
   "execution_count": 7,
   "metadata": {
    "collapsed": false
   },
   "outputs": [
    {
     "data": {
      "text/plain": [
       "0            Sheet: 11 13/16 x 9 1/2 in. (30 x 24.2cm)\n",
       "1            Sheet: 12 3/8 x 17 5/16 in. (31.5 x 44cm)\n",
       "2                  12 1/16 x 8 7/8 in. (30.6 x 22.6cm)\n",
       "3           Sheet: 17 5/16 x 8 7/8 in. (43.9 x 22.5cm)\n",
       "4    sheet: 20 11/16 x 21 in. (52.5 x 53.3cm)\\r\\npl...\n",
       "Name: Dimensions, dtype: object"
      ]
     },
     "execution_count": 7,
     "metadata": {},
     "output_type": "execute_result"
    }
   ],
   "source": [
    "mdf['Dimensions'].head()"
   ]
  },
  {
   "cell_type": "code",
   "execution_count": 47,
   "metadata": {
    "collapsed": false
   },
   "outputs": [],
   "source": [
    "mdf['cm_Dimensions'] = mdf.Dimensions.str.findall(\"\\((\\d+\\.?\\d?).*(\\d+\\.?\\d?).*\\)\")"
   ]
  },
  {
   "cell_type": "code",
   "execution_count": 46,
   "metadata": {
    "collapsed": false
   },
   "outputs": [
    {
     "ename": "TypeError",
     "evalue": "float() argument must be a string or a number, not 'tuple'",
     "output_type": "error",
     "traceback": [
      "\u001b[0;31m---------------------------------------------------------------------------\u001b[0m",
      "\u001b[0;31mTypeError\u001b[0m                                 Traceback (most recent call last)",
      "\u001b[0;32m<ipython-input-46-399b5ffec0bd>\u001b[0m in \u001b[0;36m<module>\u001b[0;34m()\u001b[0m\n\u001b[0;32m----> 1\u001b[0;31m \u001b[0mmdf\u001b[0m\u001b[0;34m[\u001b[0m\u001b[0;34m'floatcm'\u001b[0m\u001b[0;34m]\u001b[0m \u001b[0;34m=\u001b[0m \u001b[0mmdf\u001b[0m\u001b[0;34m.\u001b[0m\u001b[0mcm_Dimensions\u001b[0m\u001b[0;34m.\u001b[0m\u001b[0mapply\u001b[0m\u001b[0;34m(\u001b[0m\u001b[0;32mlambda\u001b[0m \u001b[0mx\u001b[0m\u001b[0;34m:\u001b[0m \u001b[0;34m[\u001b[0m\u001b[0mfloat\u001b[0m\u001b[0;34m(\u001b[0m\u001b[0mi\u001b[0m\u001b[0;34m)\u001b[0m \u001b[0;32mfor\u001b[0m \u001b[0mi\u001b[0m \u001b[0;32min\u001b[0m \u001b[0mx\u001b[0m\u001b[0;34m]\u001b[0m\u001b[0;34m)\u001b[0m\u001b[0;34m\u001b[0m\u001b[0m\n\u001b[0m",
      "\u001b[0;32m/Applications/anaconda/lib/python3.5/site-packages/pandas/core/series.py\u001b[0m in \u001b[0;36mapply\u001b[0;34m(self, func, convert_dtype, args, **kwds)\u001b[0m\n\u001b[1;32m   2290\u001b[0m             \u001b[0;32melse\u001b[0m\u001b[0;34m:\u001b[0m\u001b[0;34m\u001b[0m\u001b[0m\n\u001b[1;32m   2291\u001b[0m                 \u001b[0mvalues\u001b[0m \u001b[0;34m=\u001b[0m \u001b[0mself\u001b[0m\u001b[0;34m.\u001b[0m\u001b[0masobject\u001b[0m\u001b[0;34m\u001b[0m\u001b[0m\n\u001b[0;32m-> 2292\u001b[0;31m                 \u001b[0mmapped\u001b[0m \u001b[0;34m=\u001b[0m \u001b[0mlib\u001b[0m\u001b[0;34m.\u001b[0m\u001b[0mmap_infer\u001b[0m\u001b[0;34m(\u001b[0m\u001b[0mvalues\u001b[0m\u001b[0;34m,\u001b[0m \u001b[0mf\u001b[0m\u001b[0;34m,\u001b[0m \u001b[0mconvert\u001b[0m\u001b[0;34m=\u001b[0m\u001b[0mconvert_dtype\u001b[0m\u001b[0;34m)\u001b[0m\u001b[0;34m\u001b[0m\u001b[0m\n\u001b[0m\u001b[1;32m   2293\u001b[0m \u001b[0;34m\u001b[0m\u001b[0m\n\u001b[1;32m   2294\u001b[0m         \u001b[0;32mif\u001b[0m \u001b[0mlen\u001b[0m\u001b[0;34m(\u001b[0m\u001b[0mmapped\u001b[0m\u001b[0;34m)\u001b[0m \u001b[0;32mand\u001b[0m \u001b[0misinstance\u001b[0m\u001b[0;34m(\u001b[0m\u001b[0mmapped\u001b[0m\u001b[0;34m[\u001b[0m\u001b[0;36m0\u001b[0m\u001b[0;34m]\u001b[0m\u001b[0;34m,\u001b[0m \u001b[0mSeries\u001b[0m\u001b[0;34m)\u001b[0m\u001b[0;34m:\u001b[0m\u001b[0;34m\u001b[0m\u001b[0m\n",
      "\u001b[0;32mpandas/src/inference.pyx\u001b[0m in \u001b[0;36mpandas.lib.map_infer (pandas/lib.c:63307)\u001b[0;34m()\u001b[0m\n",
      "\u001b[0;32m<ipython-input-46-399b5ffec0bd>\u001b[0m in \u001b[0;36m<lambda>\u001b[0;34m(x)\u001b[0m\n\u001b[0;32m----> 1\u001b[0;31m \u001b[0mmdf\u001b[0m\u001b[0;34m[\u001b[0m\u001b[0;34m'floatcm'\u001b[0m\u001b[0;34m]\u001b[0m \u001b[0;34m=\u001b[0m \u001b[0mmdf\u001b[0m\u001b[0;34m.\u001b[0m\u001b[0mcm_Dimensions\u001b[0m\u001b[0;34m.\u001b[0m\u001b[0mapply\u001b[0m\u001b[0;34m(\u001b[0m\u001b[0;32mlambda\u001b[0m \u001b[0mx\u001b[0m\u001b[0;34m:\u001b[0m \u001b[0;34m[\u001b[0m\u001b[0mfloat\u001b[0m\u001b[0;34m(\u001b[0m\u001b[0mi\u001b[0m\u001b[0;34m)\u001b[0m \u001b[0;32mfor\u001b[0m \u001b[0mi\u001b[0m \u001b[0;32min\u001b[0m \u001b[0mx\u001b[0m\u001b[0;34m]\u001b[0m\u001b[0;34m)\u001b[0m\u001b[0;34m\u001b[0m\u001b[0m\n\u001b[0m",
      "\u001b[0;32m<ipython-input-46-399b5ffec0bd>\u001b[0m in \u001b[0;36m<listcomp>\u001b[0;34m(.0)\u001b[0m\n\u001b[0;32m----> 1\u001b[0;31m \u001b[0mmdf\u001b[0m\u001b[0;34m[\u001b[0m\u001b[0;34m'floatcm'\u001b[0m\u001b[0;34m]\u001b[0m \u001b[0;34m=\u001b[0m \u001b[0mmdf\u001b[0m\u001b[0;34m.\u001b[0m\u001b[0mcm_Dimensions\u001b[0m\u001b[0;34m.\u001b[0m\u001b[0mapply\u001b[0m\u001b[0;34m(\u001b[0m\u001b[0;32mlambda\u001b[0m \u001b[0mx\u001b[0m\u001b[0;34m:\u001b[0m \u001b[0;34m[\u001b[0m\u001b[0mfloat\u001b[0m\u001b[0;34m(\u001b[0m\u001b[0mi\u001b[0m\u001b[0;34m)\u001b[0m \u001b[0;32mfor\u001b[0m \u001b[0mi\u001b[0m \u001b[0;32min\u001b[0m \u001b[0mx\u001b[0m\u001b[0;34m]\u001b[0m\u001b[0;34m)\u001b[0m\u001b[0;34m\u001b[0m\u001b[0m\n\u001b[0m",
      "\u001b[0;31mTypeError\u001b[0m: float() argument must be a string or a number, not 'tuple'"
     ]
    }
   ],
   "source": [
    "#mdf['floatcm'] = mdf.cm_Dimensions.apply(lambda x: [float(i) for i in x])"
   ]
  },
  {
   "cell_type": "code",
   "execution_count": 24,
   "metadata": {
    "collapsed": false
   },
   "outputs": [],
   "source": [
    "mdf.head(10)\n",
    "mdf.to_json(\"mathjson.json\", orient=\"index\")\n",
    "mdf.to_csv(\"mathtsv.tsv\", sep=\"\\t\")\n"
   ]
  },
  {
   "cell_type": "code",
   "execution_count": 25,
   "metadata": {
    "collapsed": false
   },
   "outputs": [
    {
     "data": {
      "text/plain": [
       "51"
      ]
     },
     "execution_count": 25,
     "metadata": {},
     "output_type": "execute_result"
    }
   ],
   "source": [
    "len(mdf)\n"
   ]
  },
  {
   "cell_type": "code",
   "execution_count": 26,
   "metadata": {
    "collapsed": false
   },
   "outputs": [],
   "source": [
    "#city = mdf.groupby('Artist Display Bio').count()"
   ]
  },
  {
   "cell_type": "code",
   "execution_count": null,
   "metadata": {
    "collapsed": false
   },
   "outputs": [],
   "source": []
  }
 ],
 "metadata": {
  "anaconda-cloud": {},
  "kernelspec": {
   "display_name": "Python [conda root]",
   "language": "python",
   "name": "conda-root-py"
  },
  "language_info": {
   "codemirror_mode": {
    "name": "ipython",
    "version": 3
   },
   "file_extension": ".py",
   "mimetype": "text/x-python",
   "name": "python",
   "nbconvert_exporter": "python",
   "pygments_lexer": "ipython3",
   "version": "3.5.2"
  }
 },
 "nbformat": 4,
 "nbformat_minor": 1
}
